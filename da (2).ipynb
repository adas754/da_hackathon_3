{
  "nbformat": 4,
  "nbformat_minor": 0,
  "metadata": {
    "colab": {
      "provenance": [],
      "gpuType": "T4"
    },
    "kernelspec": {
      "name": "python3",
      "display_name": "Python 3"
    },
    "language_info": {
      "name": "python"
    },
    "accelerator": "GPU"
  },
  "cells": [
    {
      "cell_type": "markdown",
      "source": [
        "import important Libraries"
      ],
      "metadata": {
        "id": "k2e9jOuf3rAS"
      }
    },
    {
      "cell_type": "code",
      "execution_count": 140,
      "metadata": {
        "id": "ijPTLlSO_Rs6"
      },
      "outputs": [],
      "source": [
        "import numpy as np\n",
        "import pandas as pd\n",
        "import matplotlib.pyplot as plt\n"
      ]
    },
    {
      "cell_type": "markdown",
      "source": [
        "#read delivers.csv table"
      ],
      "metadata": {
        "id": "KaVD-l89zXjB"
      }
    },
    {
      "cell_type": "code",
      "source": [
        "df1=pd.read_csv(\"/content/drive/MyDrive/deliveries.csv\")"
      ],
      "metadata": {
        "id": "oktGFIyXAT9o"
      },
      "execution_count": null,
      "outputs": []
    },
    {
      "cell_type": "markdown",
      "source": [
        "#read matches.csv table"
      ],
      "metadata": {
        "id": "FR0kc7lTzcnS"
      }
    },
    {
      "cell_type": "code",
      "source": [
        "df2=pd.read_csv(\"/content/drive/MyDrive/matches.csv\")"
      ],
      "metadata": {
        "id": "V_P_BrfNBVSf"
      },
      "execution_count": null,
      "outputs": []
    },
    {
      "cell_type": "markdown",
      "source": [
        "#read first 5 data from delivers.csv"
      ],
      "metadata": {
        "id": "R9a0vF8uziZJ"
      }
    },
    {
      "cell_type": "code",
      "source": [
        "df1.head()"
      ],
      "metadata": {
        "colab": {
          "base_uri": "https://localhost:8080/",
          "height": 429
        },
        "id": "XxkAzHWQBfXd",
        "outputId": "676716a1-f5b6-4421-86bc-0794093648df"
      },
      "execution_count": null,
      "outputs": [
        {
          "output_type": "execute_result",
          "data": {
            "text/plain": [
              "   match_id  inning         batting_team                 bowling_team  over  \\\n",
              "0         1       1  Sunrisers Hyderabad  Royal Challengers Bangalore     1   \n",
              "1         1       1  Sunrisers Hyderabad  Royal Challengers Bangalore     1   \n",
              "2         1       1  Sunrisers Hyderabad  Royal Challengers Bangalore     1   \n",
              "3         1       1  Sunrisers Hyderabad  Royal Challengers Bangalore     1   \n",
              "4         1       1  Sunrisers Hyderabad  Royal Challengers Bangalore     1   \n",
              "\n",
              "   ball    batsman non_striker    bowler  is_super_over  ...  bye_runs  \\\n",
              "0     1  DA Warner    S Dhawan  TS Mills              0  ...         0   \n",
              "1     2  DA Warner    S Dhawan  TS Mills              0  ...         0   \n",
              "2     3  DA Warner    S Dhawan  TS Mills              0  ...         0   \n",
              "3     4  DA Warner    S Dhawan  TS Mills              0  ...         0   \n",
              "4     5  DA Warner    S Dhawan  TS Mills              0  ...         0   \n",
              "\n",
              "   legbye_runs  noball_runs  penalty_runs  batsman_runs  extra_runs  \\\n",
              "0            0            0             0             0           0   \n",
              "1            0            0             0             0           0   \n",
              "2            0            0             0             4           0   \n",
              "3            0            0             0             0           0   \n",
              "4            0            0             0             0           2   \n",
              "\n",
              "   total_runs  player_dismissed dismissal_kind fielder  \n",
              "0           0               NaN            NaN     NaN  \n",
              "1           0               NaN            NaN     NaN  \n",
              "2           4               NaN            NaN     NaN  \n",
              "3           0               NaN            NaN     NaN  \n",
              "4           2               NaN            NaN     NaN  \n",
              "\n",
              "[5 rows x 21 columns]"
            ],
            "text/html": [
              "\n",
              "  <div id=\"df-8d6bcce0-3280-4869-88de-037b7127067b\" class=\"colab-df-container\">\n",
              "    <div>\n",
              "<style scoped>\n",
              "    .dataframe tbody tr th:only-of-type {\n",
              "        vertical-align: middle;\n",
              "    }\n",
              "\n",
              "    .dataframe tbody tr th {\n",
              "        vertical-align: top;\n",
              "    }\n",
              "\n",
              "    .dataframe thead th {\n",
              "        text-align: right;\n",
              "    }\n",
              "</style>\n",
              "<table border=\"1\" class=\"dataframe\">\n",
              "  <thead>\n",
              "    <tr style=\"text-align: right;\">\n",
              "      <th></th>\n",
              "      <th>match_id</th>\n",
              "      <th>inning</th>\n",
              "      <th>batting_team</th>\n",
              "      <th>bowling_team</th>\n",
              "      <th>over</th>\n",
              "      <th>ball</th>\n",
              "      <th>batsman</th>\n",
              "      <th>non_striker</th>\n",
              "      <th>bowler</th>\n",
              "      <th>is_super_over</th>\n",
              "      <th>...</th>\n",
              "      <th>bye_runs</th>\n",
              "      <th>legbye_runs</th>\n",
              "      <th>noball_runs</th>\n",
              "      <th>penalty_runs</th>\n",
              "      <th>batsman_runs</th>\n",
              "      <th>extra_runs</th>\n",
              "      <th>total_runs</th>\n",
              "      <th>player_dismissed</th>\n",
              "      <th>dismissal_kind</th>\n",
              "      <th>fielder</th>\n",
              "    </tr>\n",
              "  </thead>\n",
              "  <tbody>\n",
              "    <tr>\n",
              "      <th>0</th>\n",
              "      <td>1</td>\n",
              "      <td>1</td>\n",
              "      <td>Sunrisers Hyderabad</td>\n",
              "      <td>Royal Challengers Bangalore</td>\n",
              "      <td>1</td>\n",
              "      <td>1</td>\n",
              "      <td>DA Warner</td>\n",
              "      <td>S Dhawan</td>\n",
              "      <td>TS Mills</td>\n",
              "      <td>0</td>\n",
              "      <td>...</td>\n",
              "      <td>0</td>\n",
              "      <td>0</td>\n",
              "      <td>0</td>\n",
              "      <td>0</td>\n",
              "      <td>0</td>\n",
              "      <td>0</td>\n",
              "      <td>0</td>\n",
              "      <td>NaN</td>\n",
              "      <td>NaN</td>\n",
              "      <td>NaN</td>\n",
              "    </tr>\n",
              "    <tr>\n",
              "      <th>1</th>\n",
              "      <td>1</td>\n",
              "      <td>1</td>\n",
              "      <td>Sunrisers Hyderabad</td>\n",
              "      <td>Royal Challengers Bangalore</td>\n",
              "      <td>1</td>\n",
              "      <td>2</td>\n",
              "      <td>DA Warner</td>\n",
              "      <td>S Dhawan</td>\n",
              "      <td>TS Mills</td>\n",
              "      <td>0</td>\n",
              "      <td>...</td>\n",
              "      <td>0</td>\n",
              "      <td>0</td>\n",
              "      <td>0</td>\n",
              "      <td>0</td>\n",
              "      <td>0</td>\n",
              "      <td>0</td>\n",
              "      <td>0</td>\n",
              "      <td>NaN</td>\n",
              "      <td>NaN</td>\n",
              "      <td>NaN</td>\n",
              "    </tr>\n",
              "    <tr>\n",
              "      <th>2</th>\n",
              "      <td>1</td>\n",
              "      <td>1</td>\n",
              "      <td>Sunrisers Hyderabad</td>\n",
              "      <td>Royal Challengers Bangalore</td>\n",
              "      <td>1</td>\n",
              "      <td>3</td>\n",
              "      <td>DA Warner</td>\n",
              "      <td>S Dhawan</td>\n",
              "      <td>TS Mills</td>\n",
              "      <td>0</td>\n",
              "      <td>...</td>\n",
              "      <td>0</td>\n",
              "      <td>0</td>\n",
              "      <td>0</td>\n",
              "      <td>0</td>\n",
              "      <td>4</td>\n",
              "      <td>0</td>\n",
              "      <td>4</td>\n",
              "      <td>NaN</td>\n",
              "      <td>NaN</td>\n",
              "      <td>NaN</td>\n",
              "    </tr>\n",
              "    <tr>\n",
              "      <th>3</th>\n",
              "      <td>1</td>\n",
              "      <td>1</td>\n",
              "      <td>Sunrisers Hyderabad</td>\n",
              "      <td>Royal Challengers Bangalore</td>\n",
              "      <td>1</td>\n",
              "      <td>4</td>\n",
              "      <td>DA Warner</td>\n",
              "      <td>S Dhawan</td>\n",
              "      <td>TS Mills</td>\n",
              "      <td>0</td>\n",
              "      <td>...</td>\n",
              "      <td>0</td>\n",
              "      <td>0</td>\n",
              "      <td>0</td>\n",
              "      <td>0</td>\n",
              "      <td>0</td>\n",
              "      <td>0</td>\n",
              "      <td>0</td>\n",
              "      <td>NaN</td>\n",
              "      <td>NaN</td>\n",
              "      <td>NaN</td>\n",
              "    </tr>\n",
              "    <tr>\n",
              "      <th>4</th>\n",
              "      <td>1</td>\n",
              "      <td>1</td>\n",
              "      <td>Sunrisers Hyderabad</td>\n",
              "      <td>Royal Challengers Bangalore</td>\n",
              "      <td>1</td>\n",
              "      <td>5</td>\n",
              "      <td>DA Warner</td>\n",
              "      <td>S Dhawan</td>\n",
              "      <td>TS Mills</td>\n",
              "      <td>0</td>\n",
              "      <td>...</td>\n",
              "      <td>0</td>\n",
              "      <td>0</td>\n",
              "      <td>0</td>\n",
              "      <td>0</td>\n",
              "      <td>0</td>\n",
              "      <td>2</td>\n",
              "      <td>2</td>\n",
              "      <td>NaN</td>\n",
              "      <td>NaN</td>\n",
              "      <td>NaN</td>\n",
              "    </tr>\n",
              "  </tbody>\n",
              "</table>\n",
              "<p>5 rows × 21 columns</p>\n",
              "</div>\n",
              "    <div class=\"colab-df-buttons\">\n",
              "\n",
              "  <div class=\"colab-df-container\">\n",
              "    <button class=\"colab-df-convert\" onclick=\"convertToInteractive('df-8d6bcce0-3280-4869-88de-037b7127067b')\"\n",
              "            title=\"Convert this dataframe to an interactive table.\"\n",
              "            style=\"display:none;\">\n",
              "\n",
              "  <svg xmlns=\"http://www.w3.org/2000/svg\" height=\"24px\" viewBox=\"0 -960 960 960\">\n",
              "    <path d=\"M120-120v-720h720v720H120Zm60-500h600v-160H180v160Zm220 220h160v-160H400v160Zm0 220h160v-160H400v160ZM180-400h160v-160H180v160Zm440 0h160v-160H620v160ZM180-180h160v-160H180v160Zm440 0h160v-160H620v160Z\"/>\n",
              "  </svg>\n",
              "    </button>\n",
              "\n",
              "  <style>\n",
              "    .colab-df-container {\n",
              "      display:flex;\n",
              "      gap: 12px;\n",
              "    }\n",
              "\n",
              "    .colab-df-convert {\n",
              "      background-color: #E8F0FE;\n",
              "      border: none;\n",
              "      border-radius: 50%;\n",
              "      cursor: pointer;\n",
              "      display: none;\n",
              "      fill: #1967D2;\n",
              "      height: 32px;\n",
              "      padding: 0 0 0 0;\n",
              "      width: 32px;\n",
              "    }\n",
              "\n",
              "    .colab-df-convert:hover {\n",
              "      background-color: #E2EBFA;\n",
              "      box-shadow: 0px 1px 2px rgba(60, 64, 67, 0.3), 0px 1px 3px 1px rgba(60, 64, 67, 0.15);\n",
              "      fill: #174EA6;\n",
              "    }\n",
              "\n",
              "    .colab-df-buttons div {\n",
              "      margin-bottom: 4px;\n",
              "    }\n",
              "\n",
              "    [theme=dark] .colab-df-convert {\n",
              "      background-color: #3B4455;\n",
              "      fill: #D2E3FC;\n",
              "    }\n",
              "\n",
              "    [theme=dark] .colab-df-convert:hover {\n",
              "      background-color: #434B5C;\n",
              "      box-shadow: 0px 1px 3px 1px rgba(0, 0, 0, 0.15);\n",
              "      filter: drop-shadow(0px 1px 2px rgba(0, 0, 0, 0.3));\n",
              "      fill: #FFFFFF;\n",
              "    }\n",
              "  </style>\n",
              "\n",
              "    <script>\n",
              "      const buttonEl =\n",
              "        document.querySelector('#df-8d6bcce0-3280-4869-88de-037b7127067b button.colab-df-convert');\n",
              "      buttonEl.style.display =\n",
              "        google.colab.kernel.accessAllowed ? 'block' : 'none';\n",
              "\n",
              "      async function convertToInteractive(key) {\n",
              "        const element = document.querySelector('#df-8d6bcce0-3280-4869-88de-037b7127067b');\n",
              "        const dataTable =\n",
              "          await google.colab.kernel.invokeFunction('convertToInteractive',\n",
              "                                                    [key], {});\n",
              "        if (!dataTable) return;\n",
              "\n",
              "        const docLinkHtml = 'Like what you see? Visit the ' +\n",
              "          '<a target=\"_blank\" href=https://colab.research.google.com/notebooks/data_table.ipynb>data table notebook</a>'\n",
              "          + ' to learn more about interactive tables.';\n",
              "        element.innerHTML = '';\n",
              "        dataTable['output_type'] = 'display_data';\n",
              "        await google.colab.output.renderOutput(dataTable, element);\n",
              "        const docLink = document.createElement('div');\n",
              "        docLink.innerHTML = docLinkHtml;\n",
              "        element.appendChild(docLink);\n",
              "      }\n",
              "    </script>\n",
              "  </div>\n",
              "\n",
              "\n",
              "<div id=\"df-3fc333fd-49ff-4606-9a92-ae43d01f8224\">\n",
              "  <button class=\"colab-df-quickchart\" onclick=\"quickchart('df-3fc333fd-49ff-4606-9a92-ae43d01f8224')\"\n",
              "            title=\"Suggest charts\"\n",
              "            style=\"display:none;\">\n",
              "\n",
              "<svg xmlns=\"http://www.w3.org/2000/svg\" height=\"24px\"viewBox=\"0 0 24 24\"\n",
              "     width=\"24px\">\n",
              "    <g>\n",
              "        <path d=\"M19 3H5c-1.1 0-2 .9-2 2v14c0 1.1.9 2 2 2h14c1.1 0 2-.9 2-2V5c0-1.1-.9-2-2-2zM9 17H7v-7h2v7zm4 0h-2V7h2v10zm4 0h-2v-4h2v4z\"/>\n",
              "    </g>\n",
              "</svg>\n",
              "  </button>\n",
              "\n",
              "<style>\n",
              "  .colab-df-quickchart {\n",
              "      --bg-color: #E8F0FE;\n",
              "      --fill-color: #1967D2;\n",
              "      --hover-bg-color: #E2EBFA;\n",
              "      --hover-fill-color: #174EA6;\n",
              "      --disabled-fill-color: #AAA;\n",
              "      --disabled-bg-color: #DDD;\n",
              "  }\n",
              "\n",
              "  [theme=dark] .colab-df-quickchart {\n",
              "      --bg-color: #3B4455;\n",
              "      --fill-color: #D2E3FC;\n",
              "      --hover-bg-color: #434B5C;\n",
              "      --hover-fill-color: #FFFFFF;\n",
              "      --disabled-bg-color: #3B4455;\n",
              "      --disabled-fill-color: #666;\n",
              "  }\n",
              "\n",
              "  .colab-df-quickchart {\n",
              "    background-color: var(--bg-color);\n",
              "    border: none;\n",
              "    border-radius: 50%;\n",
              "    cursor: pointer;\n",
              "    display: none;\n",
              "    fill: var(--fill-color);\n",
              "    height: 32px;\n",
              "    padding: 0;\n",
              "    width: 32px;\n",
              "  }\n",
              "\n",
              "  .colab-df-quickchart:hover {\n",
              "    background-color: var(--hover-bg-color);\n",
              "    box-shadow: 0 1px 2px rgba(60, 64, 67, 0.3), 0 1px 3px 1px rgba(60, 64, 67, 0.15);\n",
              "    fill: var(--button-hover-fill-color);\n",
              "  }\n",
              "\n",
              "  .colab-df-quickchart-complete:disabled,\n",
              "  .colab-df-quickchart-complete:disabled:hover {\n",
              "    background-color: var(--disabled-bg-color);\n",
              "    fill: var(--disabled-fill-color);\n",
              "    box-shadow: none;\n",
              "  }\n",
              "\n",
              "  .colab-df-spinner {\n",
              "    border: 2px solid var(--fill-color);\n",
              "    border-color: transparent;\n",
              "    border-bottom-color: var(--fill-color);\n",
              "    animation:\n",
              "      spin 1s steps(1) infinite;\n",
              "  }\n",
              "\n",
              "  @keyframes spin {\n",
              "    0% {\n",
              "      border-color: transparent;\n",
              "      border-bottom-color: var(--fill-color);\n",
              "      border-left-color: var(--fill-color);\n",
              "    }\n",
              "    20% {\n",
              "      border-color: transparent;\n",
              "      border-left-color: var(--fill-color);\n",
              "      border-top-color: var(--fill-color);\n",
              "    }\n",
              "    30% {\n",
              "      border-color: transparent;\n",
              "      border-left-color: var(--fill-color);\n",
              "      border-top-color: var(--fill-color);\n",
              "      border-right-color: var(--fill-color);\n",
              "    }\n",
              "    40% {\n",
              "      border-color: transparent;\n",
              "      border-right-color: var(--fill-color);\n",
              "      border-top-color: var(--fill-color);\n",
              "    }\n",
              "    60% {\n",
              "      border-color: transparent;\n",
              "      border-right-color: var(--fill-color);\n",
              "    }\n",
              "    80% {\n",
              "      border-color: transparent;\n",
              "      border-right-color: var(--fill-color);\n",
              "      border-bottom-color: var(--fill-color);\n",
              "    }\n",
              "    90% {\n",
              "      border-color: transparent;\n",
              "      border-bottom-color: var(--fill-color);\n",
              "    }\n",
              "  }\n",
              "</style>\n",
              "\n",
              "  <script>\n",
              "    async function quickchart(key) {\n",
              "      const quickchartButtonEl =\n",
              "        document.querySelector('#' + key + ' button');\n",
              "      quickchartButtonEl.disabled = true;  // To prevent multiple clicks.\n",
              "      quickchartButtonEl.classList.add('colab-df-spinner');\n",
              "      try {\n",
              "        const charts = await google.colab.kernel.invokeFunction(\n",
              "            'suggestCharts', [key], {});\n",
              "      } catch (error) {\n",
              "        console.error('Error during call to suggestCharts:', error);\n",
              "      }\n",
              "      quickchartButtonEl.classList.remove('colab-df-spinner');\n",
              "      quickchartButtonEl.classList.add('colab-df-quickchart-complete');\n",
              "    }\n",
              "    (() => {\n",
              "      let quickchartButtonEl =\n",
              "        document.querySelector('#df-3fc333fd-49ff-4606-9a92-ae43d01f8224 button');\n",
              "      quickchartButtonEl.style.display =\n",
              "        google.colab.kernel.accessAllowed ? 'block' : 'none';\n",
              "    })();\n",
              "  </script>\n",
              "</div>\n",
              "    </div>\n",
              "  </div>\n"
            ]
          },
          "metadata": {},
          "execution_count": 131
        }
      ]
    },
    {
      "cell_type": "markdown",
      "source": [
        "# read first 5 data from df2.csv"
      ],
      "metadata": {
        "id": "yKS_gXaBz_Nc"
      }
    },
    {
      "cell_type": "code",
      "source": [
        "df2.head()"
      ],
      "metadata": {
        "colab": {
          "base_uri": "https://localhost:8080/",
          "height": 452
        },
        "id": "GtM8fubcBoX1",
        "outputId": "8eec8a23-68f9-49f9-948e-a7fac86cb3b6"
      },
      "execution_count": null,
      "outputs": [
        {
          "output_type": "execute_result",
          "data": {
            "text/plain": [
              "   id  season       city        date                        team1  \\\n",
              "0   1    2017  Hyderabad  2017-04-05          Sunrisers Hyderabad   \n",
              "1   2    2017       Pune  2017-04-06               Mumbai Indians   \n",
              "2   3    2017     Rajkot  2017-04-07                Gujarat Lions   \n",
              "3   4    2017     Indore  2017-04-08       Rising Pune Supergiant   \n",
              "4   5    2017  Bangalore  2017-04-08  Royal Challengers Bangalore   \n",
              "\n",
              "                         team2                  toss_winner toss_decision  \\\n",
              "0  Royal Challengers Bangalore  Royal Challengers Bangalore         field   \n",
              "1       Rising Pune Supergiant       Rising Pune Supergiant         field   \n",
              "2        Kolkata Knight Riders        Kolkata Knight Riders         field   \n",
              "3              Kings XI Punjab              Kings XI Punjab         field   \n",
              "4             Delhi Daredevils  Royal Challengers Bangalore           bat   \n",
              "\n",
              "   result  dl_applied                       winner  win_by_runs  \\\n",
              "0  normal           0          Sunrisers Hyderabad           35   \n",
              "1  normal           0       Rising Pune Supergiant            0   \n",
              "2  normal           0        Kolkata Knight Riders            0   \n",
              "3  normal           0              Kings XI Punjab            0   \n",
              "4  normal           0  Royal Challengers Bangalore           15   \n",
              "\n",
              "   win_by_wickets player_of_match                                      venue  \\\n",
              "0               0    Yuvraj Singh  Rajiv Gandhi International Stadium, Uppal   \n",
              "1               7       SPD Smith    Maharashtra Cricket Association Stadium   \n",
              "2              10         CA Lynn     Saurashtra Cricket Association Stadium   \n",
              "3               6      GJ Maxwell                     Holkar Cricket Stadium   \n",
              "4               0       KM Jadhav                      M Chinnaswamy Stadium   \n",
              "\n",
              "          umpire1        umpire2 umpire3  \n",
              "0     AY Dandekar       NJ Llong     NaN  \n",
              "1  A Nand Kishore         S Ravi     NaN  \n",
              "2     Nitin Menon      CK Nandan     NaN  \n",
              "3    AK Chaudhary  C Shamshuddin     NaN  \n",
              "4             NaN            NaN     NaN  "
            ],
            "text/html": [
              "\n",
              "  <div id=\"df-1ff28488-ebde-4b70-87f6-816f33534348\" class=\"colab-df-container\">\n",
              "    <div>\n",
              "<style scoped>\n",
              "    .dataframe tbody tr th:only-of-type {\n",
              "        vertical-align: middle;\n",
              "    }\n",
              "\n",
              "    .dataframe tbody tr th {\n",
              "        vertical-align: top;\n",
              "    }\n",
              "\n",
              "    .dataframe thead th {\n",
              "        text-align: right;\n",
              "    }\n",
              "</style>\n",
              "<table border=\"1\" class=\"dataframe\">\n",
              "  <thead>\n",
              "    <tr style=\"text-align: right;\">\n",
              "      <th></th>\n",
              "      <th>id</th>\n",
              "      <th>season</th>\n",
              "      <th>city</th>\n",
              "      <th>date</th>\n",
              "      <th>team1</th>\n",
              "      <th>team2</th>\n",
              "      <th>toss_winner</th>\n",
              "      <th>toss_decision</th>\n",
              "      <th>result</th>\n",
              "      <th>dl_applied</th>\n",
              "      <th>winner</th>\n",
              "      <th>win_by_runs</th>\n",
              "      <th>win_by_wickets</th>\n",
              "      <th>player_of_match</th>\n",
              "      <th>venue</th>\n",
              "      <th>umpire1</th>\n",
              "      <th>umpire2</th>\n",
              "      <th>umpire3</th>\n",
              "    </tr>\n",
              "  </thead>\n",
              "  <tbody>\n",
              "    <tr>\n",
              "      <th>0</th>\n",
              "      <td>1</td>\n",
              "      <td>2017</td>\n",
              "      <td>Hyderabad</td>\n",
              "      <td>2017-04-05</td>\n",
              "      <td>Sunrisers Hyderabad</td>\n",
              "      <td>Royal Challengers Bangalore</td>\n",
              "      <td>Royal Challengers Bangalore</td>\n",
              "      <td>field</td>\n",
              "      <td>normal</td>\n",
              "      <td>0</td>\n",
              "      <td>Sunrisers Hyderabad</td>\n",
              "      <td>35</td>\n",
              "      <td>0</td>\n",
              "      <td>Yuvraj Singh</td>\n",
              "      <td>Rajiv Gandhi International Stadium, Uppal</td>\n",
              "      <td>AY Dandekar</td>\n",
              "      <td>NJ Llong</td>\n",
              "      <td>NaN</td>\n",
              "    </tr>\n",
              "    <tr>\n",
              "      <th>1</th>\n",
              "      <td>2</td>\n",
              "      <td>2017</td>\n",
              "      <td>Pune</td>\n",
              "      <td>2017-04-06</td>\n",
              "      <td>Mumbai Indians</td>\n",
              "      <td>Rising Pune Supergiant</td>\n",
              "      <td>Rising Pune Supergiant</td>\n",
              "      <td>field</td>\n",
              "      <td>normal</td>\n",
              "      <td>0</td>\n",
              "      <td>Rising Pune Supergiant</td>\n",
              "      <td>0</td>\n",
              "      <td>7</td>\n",
              "      <td>SPD Smith</td>\n",
              "      <td>Maharashtra Cricket Association Stadium</td>\n",
              "      <td>A Nand Kishore</td>\n",
              "      <td>S Ravi</td>\n",
              "      <td>NaN</td>\n",
              "    </tr>\n",
              "    <tr>\n",
              "      <th>2</th>\n",
              "      <td>3</td>\n",
              "      <td>2017</td>\n",
              "      <td>Rajkot</td>\n",
              "      <td>2017-04-07</td>\n",
              "      <td>Gujarat Lions</td>\n",
              "      <td>Kolkata Knight Riders</td>\n",
              "      <td>Kolkata Knight Riders</td>\n",
              "      <td>field</td>\n",
              "      <td>normal</td>\n",
              "      <td>0</td>\n",
              "      <td>Kolkata Knight Riders</td>\n",
              "      <td>0</td>\n",
              "      <td>10</td>\n",
              "      <td>CA Lynn</td>\n",
              "      <td>Saurashtra Cricket Association Stadium</td>\n",
              "      <td>Nitin Menon</td>\n",
              "      <td>CK Nandan</td>\n",
              "      <td>NaN</td>\n",
              "    </tr>\n",
              "    <tr>\n",
              "      <th>3</th>\n",
              "      <td>4</td>\n",
              "      <td>2017</td>\n",
              "      <td>Indore</td>\n",
              "      <td>2017-04-08</td>\n",
              "      <td>Rising Pune Supergiant</td>\n",
              "      <td>Kings XI Punjab</td>\n",
              "      <td>Kings XI Punjab</td>\n",
              "      <td>field</td>\n",
              "      <td>normal</td>\n",
              "      <td>0</td>\n",
              "      <td>Kings XI Punjab</td>\n",
              "      <td>0</td>\n",
              "      <td>6</td>\n",
              "      <td>GJ Maxwell</td>\n",
              "      <td>Holkar Cricket Stadium</td>\n",
              "      <td>AK Chaudhary</td>\n",
              "      <td>C Shamshuddin</td>\n",
              "      <td>NaN</td>\n",
              "    </tr>\n",
              "    <tr>\n",
              "      <th>4</th>\n",
              "      <td>5</td>\n",
              "      <td>2017</td>\n",
              "      <td>Bangalore</td>\n",
              "      <td>2017-04-08</td>\n",
              "      <td>Royal Challengers Bangalore</td>\n",
              "      <td>Delhi Daredevils</td>\n",
              "      <td>Royal Challengers Bangalore</td>\n",
              "      <td>bat</td>\n",
              "      <td>normal</td>\n",
              "      <td>0</td>\n",
              "      <td>Royal Challengers Bangalore</td>\n",
              "      <td>15</td>\n",
              "      <td>0</td>\n",
              "      <td>KM Jadhav</td>\n",
              "      <td>M Chinnaswamy Stadium</td>\n",
              "      <td>NaN</td>\n",
              "      <td>NaN</td>\n",
              "      <td>NaN</td>\n",
              "    </tr>\n",
              "  </tbody>\n",
              "</table>\n",
              "</div>\n",
              "    <div class=\"colab-df-buttons\">\n",
              "\n",
              "  <div class=\"colab-df-container\">\n",
              "    <button class=\"colab-df-convert\" onclick=\"convertToInteractive('df-1ff28488-ebde-4b70-87f6-816f33534348')\"\n",
              "            title=\"Convert this dataframe to an interactive table.\"\n",
              "            style=\"display:none;\">\n",
              "\n",
              "  <svg xmlns=\"http://www.w3.org/2000/svg\" height=\"24px\" viewBox=\"0 -960 960 960\">\n",
              "    <path d=\"M120-120v-720h720v720H120Zm60-500h600v-160H180v160Zm220 220h160v-160H400v160Zm0 220h160v-160H400v160ZM180-400h160v-160H180v160Zm440 0h160v-160H620v160ZM180-180h160v-160H180v160Zm440 0h160v-160H620v160Z\"/>\n",
              "  </svg>\n",
              "    </button>\n",
              "\n",
              "  <style>\n",
              "    .colab-df-container {\n",
              "      display:flex;\n",
              "      gap: 12px;\n",
              "    }\n",
              "\n",
              "    .colab-df-convert {\n",
              "      background-color: #E8F0FE;\n",
              "      border: none;\n",
              "      border-radius: 50%;\n",
              "      cursor: pointer;\n",
              "      display: none;\n",
              "      fill: #1967D2;\n",
              "      height: 32px;\n",
              "      padding: 0 0 0 0;\n",
              "      width: 32px;\n",
              "    }\n",
              "\n",
              "    .colab-df-convert:hover {\n",
              "      background-color: #E2EBFA;\n",
              "      box-shadow: 0px 1px 2px rgba(60, 64, 67, 0.3), 0px 1px 3px 1px rgba(60, 64, 67, 0.15);\n",
              "      fill: #174EA6;\n",
              "    }\n",
              "\n",
              "    .colab-df-buttons div {\n",
              "      margin-bottom: 4px;\n",
              "    }\n",
              "\n",
              "    [theme=dark] .colab-df-convert {\n",
              "      background-color: #3B4455;\n",
              "      fill: #D2E3FC;\n",
              "    }\n",
              "\n",
              "    [theme=dark] .colab-df-convert:hover {\n",
              "      background-color: #434B5C;\n",
              "      box-shadow: 0px 1px 3px 1px rgba(0, 0, 0, 0.15);\n",
              "      filter: drop-shadow(0px 1px 2px rgba(0, 0, 0, 0.3));\n",
              "      fill: #FFFFFF;\n",
              "    }\n",
              "  </style>\n",
              "\n",
              "    <script>\n",
              "      const buttonEl =\n",
              "        document.querySelector('#df-1ff28488-ebde-4b70-87f6-816f33534348 button.colab-df-convert');\n",
              "      buttonEl.style.display =\n",
              "        google.colab.kernel.accessAllowed ? 'block' : 'none';\n",
              "\n",
              "      async function convertToInteractive(key) {\n",
              "        const element = document.querySelector('#df-1ff28488-ebde-4b70-87f6-816f33534348');\n",
              "        const dataTable =\n",
              "          await google.colab.kernel.invokeFunction('convertToInteractive',\n",
              "                                                    [key], {});\n",
              "        if (!dataTable) return;\n",
              "\n",
              "        const docLinkHtml = 'Like what you see? Visit the ' +\n",
              "          '<a target=\"_blank\" href=https://colab.research.google.com/notebooks/data_table.ipynb>data table notebook</a>'\n",
              "          + ' to learn more about interactive tables.';\n",
              "        element.innerHTML = '';\n",
              "        dataTable['output_type'] = 'display_data';\n",
              "        await google.colab.output.renderOutput(dataTable, element);\n",
              "        const docLink = document.createElement('div');\n",
              "        docLink.innerHTML = docLinkHtml;\n",
              "        element.appendChild(docLink);\n",
              "      }\n",
              "    </script>\n",
              "  </div>\n",
              "\n",
              "\n",
              "<div id=\"df-06e435ed-52c7-40c1-8cf3-20a36d222c71\">\n",
              "  <button class=\"colab-df-quickchart\" onclick=\"quickchart('df-06e435ed-52c7-40c1-8cf3-20a36d222c71')\"\n",
              "            title=\"Suggest charts\"\n",
              "            style=\"display:none;\">\n",
              "\n",
              "<svg xmlns=\"http://www.w3.org/2000/svg\" height=\"24px\"viewBox=\"0 0 24 24\"\n",
              "     width=\"24px\">\n",
              "    <g>\n",
              "        <path d=\"M19 3H5c-1.1 0-2 .9-2 2v14c0 1.1.9 2 2 2h14c1.1 0 2-.9 2-2V5c0-1.1-.9-2-2-2zM9 17H7v-7h2v7zm4 0h-2V7h2v10zm4 0h-2v-4h2v4z\"/>\n",
              "    </g>\n",
              "</svg>\n",
              "  </button>\n",
              "\n",
              "<style>\n",
              "  .colab-df-quickchart {\n",
              "      --bg-color: #E8F0FE;\n",
              "      --fill-color: #1967D2;\n",
              "      --hover-bg-color: #E2EBFA;\n",
              "      --hover-fill-color: #174EA6;\n",
              "      --disabled-fill-color: #AAA;\n",
              "      --disabled-bg-color: #DDD;\n",
              "  }\n",
              "\n",
              "  [theme=dark] .colab-df-quickchart {\n",
              "      --bg-color: #3B4455;\n",
              "      --fill-color: #D2E3FC;\n",
              "      --hover-bg-color: #434B5C;\n",
              "      --hover-fill-color: #FFFFFF;\n",
              "      --disabled-bg-color: #3B4455;\n",
              "      --disabled-fill-color: #666;\n",
              "  }\n",
              "\n",
              "  .colab-df-quickchart {\n",
              "    background-color: var(--bg-color);\n",
              "    border: none;\n",
              "    border-radius: 50%;\n",
              "    cursor: pointer;\n",
              "    display: none;\n",
              "    fill: var(--fill-color);\n",
              "    height: 32px;\n",
              "    padding: 0;\n",
              "    width: 32px;\n",
              "  }\n",
              "\n",
              "  .colab-df-quickchart:hover {\n",
              "    background-color: var(--hover-bg-color);\n",
              "    box-shadow: 0 1px 2px rgba(60, 64, 67, 0.3), 0 1px 3px 1px rgba(60, 64, 67, 0.15);\n",
              "    fill: var(--button-hover-fill-color);\n",
              "  }\n",
              "\n",
              "  .colab-df-quickchart-complete:disabled,\n",
              "  .colab-df-quickchart-complete:disabled:hover {\n",
              "    background-color: var(--disabled-bg-color);\n",
              "    fill: var(--disabled-fill-color);\n",
              "    box-shadow: none;\n",
              "  }\n",
              "\n",
              "  .colab-df-spinner {\n",
              "    border: 2px solid var(--fill-color);\n",
              "    border-color: transparent;\n",
              "    border-bottom-color: var(--fill-color);\n",
              "    animation:\n",
              "      spin 1s steps(1) infinite;\n",
              "  }\n",
              "\n",
              "  @keyframes spin {\n",
              "    0% {\n",
              "      border-color: transparent;\n",
              "      border-bottom-color: var(--fill-color);\n",
              "      border-left-color: var(--fill-color);\n",
              "    }\n",
              "    20% {\n",
              "      border-color: transparent;\n",
              "      border-left-color: var(--fill-color);\n",
              "      border-top-color: var(--fill-color);\n",
              "    }\n",
              "    30% {\n",
              "      border-color: transparent;\n",
              "      border-left-color: var(--fill-color);\n",
              "      border-top-color: var(--fill-color);\n",
              "      border-right-color: var(--fill-color);\n",
              "    }\n",
              "    40% {\n",
              "      border-color: transparent;\n",
              "      border-right-color: var(--fill-color);\n",
              "      border-top-color: var(--fill-color);\n",
              "    }\n",
              "    60% {\n",
              "      border-color: transparent;\n",
              "      border-right-color: var(--fill-color);\n",
              "    }\n",
              "    80% {\n",
              "      border-color: transparent;\n",
              "      border-right-color: var(--fill-color);\n",
              "      border-bottom-color: var(--fill-color);\n",
              "    }\n",
              "    90% {\n",
              "      border-color: transparent;\n",
              "      border-bottom-color: var(--fill-color);\n",
              "    }\n",
              "  }\n",
              "</style>\n",
              "\n",
              "  <script>\n",
              "    async function quickchart(key) {\n",
              "      const quickchartButtonEl =\n",
              "        document.querySelector('#' + key + ' button');\n",
              "      quickchartButtonEl.disabled = true;  // To prevent multiple clicks.\n",
              "      quickchartButtonEl.classList.add('colab-df-spinner');\n",
              "      try {\n",
              "        const charts = await google.colab.kernel.invokeFunction(\n",
              "            'suggestCharts', [key], {});\n",
              "      } catch (error) {\n",
              "        console.error('Error during call to suggestCharts:', error);\n",
              "      }\n",
              "      quickchartButtonEl.classList.remove('colab-df-spinner');\n",
              "      quickchartButtonEl.classList.add('colab-df-quickchart-complete');\n",
              "    }\n",
              "    (() => {\n",
              "      let quickchartButtonEl =\n",
              "        document.querySelector('#df-06e435ed-52c7-40c1-8cf3-20a36d222c71 button');\n",
              "      quickchartButtonEl.style.display =\n",
              "        google.colab.kernel.accessAllowed ? 'block' : 'none';\n",
              "    })();\n",
              "  </script>\n",
              "</div>\n",
              "    </div>\n",
              "  </div>\n"
            ]
          },
          "metadata": {},
          "execution_count": 7
        }
      ]
    },
    {
      "cell_type": "markdown",
      "source": [
        "#merge two dataframe"
      ],
      "metadata": {
        "id": "y06VC9Xb0dd-"
      }
    },
    {
      "cell_type": "code",
      "source": [
        "import pandas as pd\n",
        "merged_data_id = pd.merge(df1, df2, left_on='match_id', right_on='id', how='left')\n",
        "merged_data_id"
      ],
      "metadata": {
        "colab": {
          "base_uri": "https://localhost:8080/",
          "height": 1000
        },
        "id": "6E7RxTeqCgBR",
        "outputId": "7d6b69d1-09e4-4dd8-e874-4eeb9e8c6ac4"
      },
      "execution_count": null,
      "outputs": [
        {
          "output_type": "execute_result",
          "data": {
            "text/plain": [
              "        match_id  inning         batting_team                 bowling_team  \\\n",
              "0              1       1  Sunrisers Hyderabad  Royal Challengers Bangalore   \n",
              "1              1       1  Sunrisers Hyderabad  Royal Challengers Bangalore   \n",
              "2              1       1  Sunrisers Hyderabad  Royal Challengers Bangalore   \n",
              "3              1       1  Sunrisers Hyderabad  Royal Challengers Bangalore   \n",
              "4              1       1  Sunrisers Hyderabad  Royal Challengers Bangalore   \n",
              "...          ...     ...                  ...                          ...   \n",
              "179073     11415       2  Chennai Super Kings               Mumbai Indians   \n",
              "179074     11415       2  Chennai Super Kings               Mumbai Indians   \n",
              "179075     11415       2  Chennai Super Kings               Mumbai Indians   \n",
              "179076     11415       2  Chennai Super Kings               Mumbai Indians   \n",
              "179077     11415       2  Chennai Super Kings               Mumbai Indians   \n",
              "\n",
              "        over  ball    batsman non_striker      bowler  is_super_over  ...  \\\n",
              "0          1     1  DA Warner    S Dhawan    TS Mills              0  ...   \n",
              "1          1     2  DA Warner    S Dhawan    TS Mills              0  ...   \n",
              "2          1     3  DA Warner    S Dhawan    TS Mills              0  ...   \n",
              "3          1     4  DA Warner    S Dhawan    TS Mills              0  ...   \n",
              "4          1     5  DA Warner    S Dhawan    TS Mills              0  ...   \n",
              "...      ...   ...        ...         ...         ...            ...  ...   \n",
              "179073    20     2  RA Jadeja   SR Watson  SL Malinga              0  ...   \n",
              "179074    20     3  SR Watson   RA Jadeja  SL Malinga              0  ...   \n",
              "179075    20     4  SR Watson   RA Jadeja  SL Malinga              0  ...   \n",
              "179076    20     5  SN Thakur   RA Jadeja  SL Malinga              0  ...   \n",
              "179077    20     6  SN Thakur   RA Jadeja  SL Malinga              0  ...   \n",
              "\n",
              "        result  dl_applied               winner  win_by_runs  win_by_wickets  \\\n",
              "0       normal           0  Sunrisers Hyderabad           35               0   \n",
              "1       normal           0  Sunrisers Hyderabad           35               0   \n",
              "2       normal           0  Sunrisers Hyderabad           35               0   \n",
              "3       normal           0  Sunrisers Hyderabad           35               0   \n",
              "4       normal           0  Sunrisers Hyderabad           35               0   \n",
              "...        ...         ...                  ...          ...             ...   \n",
              "179073  normal           0       Mumbai Indians            1               0   \n",
              "179074  normal           0       Mumbai Indians            1               0   \n",
              "179075  normal           0       Mumbai Indians            1               0   \n",
              "179076  normal           0       Mumbai Indians            1               0   \n",
              "179077  normal           0       Mumbai Indians            1               0   \n",
              "\n",
              "        player_of_match                                      venue  \\\n",
              "0          Yuvraj Singh  Rajiv Gandhi International Stadium, Uppal   \n",
              "1          Yuvraj Singh  Rajiv Gandhi International Stadium, Uppal   \n",
              "2          Yuvraj Singh  Rajiv Gandhi International Stadium, Uppal   \n",
              "3          Yuvraj Singh  Rajiv Gandhi International Stadium, Uppal   \n",
              "4          Yuvraj Singh  Rajiv Gandhi International Stadium, Uppal   \n",
              "...                 ...                                        ...   \n",
              "179073        JJ Bumrah         Rajiv Gandhi Intl. Cricket Stadium   \n",
              "179074        JJ Bumrah         Rajiv Gandhi Intl. Cricket Stadium   \n",
              "179075        JJ Bumrah         Rajiv Gandhi Intl. Cricket Stadium   \n",
              "179076        JJ Bumrah         Rajiv Gandhi Intl. Cricket Stadium   \n",
              "179077        JJ Bumrah         Rajiv Gandhi Intl. Cricket Stadium   \n",
              "\n",
              "            umpire1    umpire2      umpire3  \n",
              "0       AY Dandekar   NJ Llong          NaN  \n",
              "1       AY Dandekar   NJ Llong          NaN  \n",
              "2       AY Dandekar   NJ Llong          NaN  \n",
              "3       AY Dandekar   NJ Llong          NaN  \n",
              "4       AY Dandekar   NJ Llong          NaN  \n",
              "...             ...        ...          ...  \n",
              "179073  Nitin Menon  Ian Gould  Nigel Llong  \n",
              "179074  Nitin Menon  Ian Gould  Nigel Llong  \n",
              "179075  Nitin Menon  Ian Gould  Nigel Llong  \n",
              "179076  Nitin Menon  Ian Gould  Nigel Llong  \n",
              "179077  Nitin Menon  Ian Gould  Nigel Llong  \n",
              "\n",
              "[179078 rows x 39 columns]"
            ],
            "text/html": [
              "\n",
              "  <div id=\"df-af46a2f3-495b-41b6-be2e-e076b086208e\" class=\"colab-df-container\">\n",
              "    <div>\n",
              "<style scoped>\n",
              "    .dataframe tbody tr th:only-of-type {\n",
              "        vertical-align: middle;\n",
              "    }\n",
              "\n",
              "    .dataframe tbody tr th {\n",
              "        vertical-align: top;\n",
              "    }\n",
              "\n",
              "    .dataframe thead th {\n",
              "        text-align: right;\n",
              "    }\n",
              "</style>\n",
              "<table border=\"1\" class=\"dataframe\">\n",
              "  <thead>\n",
              "    <tr style=\"text-align: right;\">\n",
              "      <th></th>\n",
              "      <th>match_id</th>\n",
              "      <th>inning</th>\n",
              "      <th>batting_team</th>\n",
              "      <th>bowling_team</th>\n",
              "      <th>over</th>\n",
              "      <th>ball</th>\n",
              "      <th>batsman</th>\n",
              "      <th>non_striker</th>\n",
              "      <th>bowler</th>\n",
              "      <th>is_super_over</th>\n",
              "      <th>...</th>\n",
              "      <th>result</th>\n",
              "      <th>dl_applied</th>\n",
              "      <th>winner</th>\n",
              "      <th>win_by_runs</th>\n",
              "      <th>win_by_wickets</th>\n",
              "      <th>player_of_match</th>\n",
              "      <th>venue</th>\n",
              "      <th>umpire1</th>\n",
              "      <th>umpire2</th>\n",
              "      <th>umpire3</th>\n",
              "    </tr>\n",
              "  </thead>\n",
              "  <tbody>\n",
              "    <tr>\n",
              "      <th>0</th>\n",
              "      <td>1</td>\n",
              "      <td>1</td>\n",
              "      <td>Sunrisers Hyderabad</td>\n",
              "      <td>Royal Challengers Bangalore</td>\n",
              "      <td>1</td>\n",
              "      <td>1</td>\n",
              "      <td>DA Warner</td>\n",
              "      <td>S Dhawan</td>\n",
              "      <td>TS Mills</td>\n",
              "      <td>0</td>\n",
              "      <td>...</td>\n",
              "      <td>normal</td>\n",
              "      <td>0</td>\n",
              "      <td>Sunrisers Hyderabad</td>\n",
              "      <td>35</td>\n",
              "      <td>0</td>\n",
              "      <td>Yuvraj Singh</td>\n",
              "      <td>Rajiv Gandhi International Stadium, Uppal</td>\n",
              "      <td>AY Dandekar</td>\n",
              "      <td>NJ Llong</td>\n",
              "      <td>NaN</td>\n",
              "    </tr>\n",
              "    <tr>\n",
              "      <th>1</th>\n",
              "      <td>1</td>\n",
              "      <td>1</td>\n",
              "      <td>Sunrisers Hyderabad</td>\n",
              "      <td>Royal Challengers Bangalore</td>\n",
              "      <td>1</td>\n",
              "      <td>2</td>\n",
              "      <td>DA Warner</td>\n",
              "      <td>S Dhawan</td>\n",
              "      <td>TS Mills</td>\n",
              "      <td>0</td>\n",
              "      <td>...</td>\n",
              "      <td>normal</td>\n",
              "      <td>0</td>\n",
              "      <td>Sunrisers Hyderabad</td>\n",
              "      <td>35</td>\n",
              "      <td>0</td>\n",
              "      <td>Yuvraj Singh</td>\n",
              "      <td>Rajiv Gandhi International Stadium, Uppal</td>\n",
              "      <td>AY Dandekar</td>\n",
              "      <td>NJ Llong</td>\n",
              "      <td>NaN</td>\n",
              "    </tr>\n",
              "    <tr>\n",
              "      <th>2</th>\n",
              "      <td>1</td>\n",
              "      <td>1</td>\n",
              "      <td>Sunrisers Hyderabad</td>\n",
              "      <td>Royal Challengers Bangalore</td>\n",
              "      <td>1</td>\n",
              "      <td>3</td>\n",
              "      <td>DA Warner</td>\n",
              "      <td>S Dhawan</td>\n",
              "      <td>TS Mills</td>\n",
              "      <td>0</td>\n",
              "      <td>...</td>\n",
              "      <td>normal</td>\n",
              "      <td>0</td>\n",
              "      <td>Sunrisers Hyderabad</td>\n",
              "      <td>35</td>\n",
              "      <td>0</td>\n",
              "      <td>Yuvraj Singh</td>\n",
              "      <td>Rajiv Gandhi International Stadium, Uppal</td>\n",
              "      <td>AY Dandekar</td>\n",
              "      <td>NJ Llong</td>\n",
              "      <td>NaN</td>\n",
              "    </tr>\n",
              "    <tr>\n",
              "      <th>3</th>\n",
              "      <td>1</td>\n",
              "      <td>1</td>\n",
              "      <td>Sunrisers Hyderabad</td>\n",
              "      <td>Royal Challengers Bangalore</td>\n",
              "      <td>1</td>\n",
              "      <td>4</td>\n",
              "      <td>DA Warner</td>\n",
              "      <td>S Dhawan</td>\n",
              "      <td>TS Mills</td>\n",
              "      <td>0</td>\n",
              "      <td>...</td>\n",
              "      <td>normal</td>\n",
              "      <td>0</td>\n",
              "      <td>Sunrisers Hyderabad</td>\n",
              "      <td>35</td>\n",
              "      <td>0</td>\n",
              "      <td>Yuvraj Singh</td>\n",
              "      <td>Rajiv Gandhi International Stadium, Uppal</td>\n",
              "      <td>AY Dandekar</td>\n",
              "      <td>NJ Llong</td>\n",
              "      <td>NaN</td>\n",
              "    </tr>\n",
              "    <tr>\n",
              "      <th>4</th>\n",
              "      <td>1</td>\n",
              "      <td>1</td>\n",
              "      <td>Sunrisers Hyderabad</td>\n",
              "      <td>Royal Challengers Bangalore</td>\n",
              "      <td>1</td>\n",
              "      <td>5</td>\n",
              "      <td>DA Warner</td>\n",
              "      <td>S Dhawan</td>\n",
              "      <td>TS Mills</td>\n",
              "      <td>0</td>\n",
              "      <td>...</td>\n",
              "      <td>normal</td>\n",
              "      <td>0</td>\n",
              "      <td>Sunrisers Hyderabad</td>\n",
              "      <td>35</td>\n",
              "      <td>0</td>\n",
              "      <td>Yuvraj Singh</td>\n",
              "      <td>Rajiv Gandhi International Stadium, Uppal</td>\n",
              "      <td>AY Dandekar</td>\n",
              "      <td>NJ Llong</td>\n",
              "      <td>NaN</td>\n",
              "    </tr>\n",
              "    <tr>\n",
              "      <th>...</th>\n",
              "      <td>...</td>\n",
              "      <td>...</td>\n",
              "      <td>...</td>\n",
              "      <td>...</td>\n",
              "      <td>...</td>\n",
              "      <td>...</td>\n",
              "      <td>...</td>\n",
              "      <td>...</td>\n",
              "      <td>...</td>\n",
              "      <td>...</td>\n",
              "      <td>...</td>\n",
              "      <td>...</td>\n",
              "      <td>...</td>\n",
              "      <td>...</td>\n",
              "      <td>...</td>\n",
              "      <td>...</td>\n",
              "      <td>...</td>\n",
              "      <td>...</td>\n",
              "      <td>...</td>\n",
              "      <td>...</td>\n",
              "      <td>...</td>\n",
              "    </tr>\n",
              "    <tr>\n",
              "      <th>179073</th>\n",
              "      <td>11415</td>\n",
              "      <td>2</td>\n",
              "      <td>Chennai Super Kings</td>\n",
              "      <td>Mumbai Indians</td>\n",
              "      <td>20</td>\n",
              "      <td>2</td>\n",
              "      <td>RA Jadeja</td>\n",
              "      <td>SR Watson</td>\n",
              "      <td>SL Malinga</td>\n",
              "      <td>0</td>\n",
              "      <td>...</td>\n",
              "      <td>normal</td>\n",
              "      <td>0</td>\n",
              "      <td>Mumbai Indians</td>\n",
              "      <td>1</td>\n",
              "      <td>0</td>\n",
              "      <td>JJ Bumrah</td>\n",
              "      <td>Rajiv Gandhi Intl. Cricket Stadium</td>\n",
              "      <td>Nitin Menon</td>\n",
              "      <td>Ian Gould</td>\n",
              "      <td>Nigel Llong</td>\n",
              "    </tr>\n",
              "    <tr>\n",
              "      <th>179074</th>\n",
              "      <td>11415</td>\n",
              "      <td>2</td>\n",
              "      <td>Chennai Super Kings</td>\n",
              "      <td>Mumbai Indians</td>\n",
              "      <td>20</td>\n",
              "      <td>3</td>\n",
              "      <td>SR Watson</td>\n",
              "      <td>RA Jadeja</td>\n",
              "      <td>SL Malinga</td>\n",
              "      <td>0</td>\n",
              "      <td>...</td>\n",
              "      <td>normal</td>\n",
              "      <td>0</td>\n",
              "      <td>Mumbai Indians</td>\n",
              "      <td>1</td>\n",
              "      <td>0</td>\n",
              "      <td>JJ Bumrah</td>\n",
              "      <td>Rajiv Gandhi Intl. Cricket Stadium</td>\n",
              "      <td>Nitin Menon</td>\n",
              "      <td>Ian Gould</td>\n",
              "      <td>Nigel Llong</td>\n",
              "    </tr>\n",
              "    <tr>\n",
              "      <th>179075</th>\n",
              "      <td>11415</td>\n",
              "      <td>2</td>\n",
              "      <td>Chennai Super Kings</td>\n",
              "      <td>Mumbai Indians</td>\n",
              "      <td>20</td>\n",
              "      <td>4</td>\n",
              "      <td>SR Watson</td>\n",
              "      <td>RA Jadeja</td>\n",
              "      <td>SL Malinga</td>\n",
              "      <td>0</td>\n",
              "      <td>...</td>\n",
              "      <td>normal</td>\n",
              "      <td>0</td>\n",
              "      <td>Mumbai Indians</td>\n",
              "      <td>1</td>\n",
              "      <td>0</td>\n",
              "      <td>JJ Bumrah</td>\n",
              "      <td>Rajiv Gandhi Intl. Cricket Stadium</td>\n",
              "      <td>Nitin Menon</td>\n",
              "      <td>Ian Gould</td>\n",
              "      <td>Nigel Llong</td>\n",
              "    </tr>\n",
              "    <tr>\n",
              "      <th>179076</th>\n",
              "      <td>11415</td>\n",
              "      <td>2</td>\n",
              "      <td>Chennai Super Kings</td>\n",
              "      <td>Mumbai Indians</td>\n",
              "      <td>20</td>\n",
              "      <td>5</td>\n",
              "      <td>SN Thakur</td>\n",
              "      <td>RA Jadeja</td>\n",
              "      <td>SL Malinga</td>\n",
              "      <td>0</td>\n",
              "      <td>...</td>\n",
              "      <td>normal</td>\n",
              "      <td>0</td>\n",
              "      <td>Mumbai Indians</td>\n",
              "      <td>1</td>\n",
              "      <td>0</td>\n",
              "      <td>JJ Bumrah</td>\n",
              "      <td>Rajiv Gandhi Intl. Cricket Stadium</td>\n",
              "      <td>Nitin Menon</td>\n",
              "      <td>Ian Gould</td>\n",
              "      <td>Nigel Llong</td>\n",
              "    </tr>\n",
              "    <tr>\n",
              "      <th>179077</th>\n",
              "      <td>11415</td>\n",
              "      <td>2</td>\n",
              "      <td>Chennai Super Kings</td>\n",
              "      <td>Mumbai Indians</td>\n",
              "      <td>20</td>\n",
              "      <td>6</td>\n",
              "      <td>SN Thakur</td>\n",
              "      <td>RA Jadeja</td>\n",
              "      <td>SL Malinga</td>\n",
              "      <td>0</td>\n",
              "      <td>...</td>\n",
              "      <td>normal</td>\n",
              "      <td>0</td>\n",
              "      <td>Mumbai Indians</td>\n",
              "      <td>1</td>\n",
              "      <td>0</td>\n",
              "      <td>JJ Bumrah</td>\n",
              "      <td>Rajiv Gandhi Intl. Cricket Stadium</td>\n",
              "      <td>Nitin Menon</td>\n",
              "      <td>Ian Gould</td>\n",
              "      <td>Nigel Llong</td>\n",
              "    </tr>\n",
              "  </tbody>\n",
              "</table>\n",
              "<p>179078 rows × 39 columns</p>\n",
              "</div>\n",
              "    <div class=\"colab-df-buttons\">\n",
              "\n",
              "  <div class=\"colab-df-container\">\n",
              "    <button class=\"colab-df-convert\" onclick=\"convertToInteractive('df-af46a2f3-495b-41b6-be2e-e076b086208e')\"\n",
              "            title=\"Convert this dataframe to an interactive table.\"\n",
              "            style=\"display:none;\">\n",
              "\n",
              "  <svg xmlns=\"http://www.w3.org/2000/svg\" height=\"24px\" viewBox=\"0 -960 960 960\">\n",
              "    <path d=\"M120-120v-720h720v720H120Zm60-500h600v-160H180v160Zm220 220h160v-160H400v160Zm0 220h160v-160H400v160ZM180-400h160v-160H180v160Zm440 0h160v-160H620v160ZM180-180h160v-160H180v160Zm440 0h160v-160H620v160Z\"/>\n",
              "  </svg>\n",
              "    </button>\n",
              "\n",
              "  <style>\n",
              "    .colab-df-container {\n",
              "      display:flex;\n",
              "      gap: 12px;\n",
              "    }\n",
              "\n",
              "    .colab-df-convert {\n",
              "      background-color: #E8F0FE;\n",
              "      border: none;\n",
              "      border-radius: 50%;\n",
              "      cursor: pointer;\n",
              "      display: none;\n",
              "      fill: #1967D2;\n",
              "      height: 32px;\n",
              "      padding: 0 0 0 0;\n",
              "      width: 32px;\n",
              "    }\n",
              "\n",
              "    .colab-df-convert:hover {\n",
              "      background-color: #E2EBFA;\n",
              "      box-shadow: 0px 1px 2px rgba(60, 64, 67, 0.3), 0px 1px 3px 1px rgba(60, 64, 67, 0.15);\n",
              "      fill: #174EA6;\n",
              "    }\n",
              "\n",
              "    .colab-df-buttons div {\n",
              "      margin-bottom: 4px;\n",
              "    }\n",
              "\n",
              "    [theme=dark] .colab-df-convert {\n",
              "      background-color: #3B4455;\n",
              "      fill: #D2E3FC;\n",
              "    }\n",
              "\n",
              "    [theme=dark] .colab-df-convert:hover {\n",
              "      background-color: #434B5C;\n",
              "      box-shadow: 0px 1px 3px 1px rgba(0, 0, 0, 0.15);\n",
              "      filter: drop-shadow(0px 1px 2px rgba(0, 0, 0, 0.3));\n",
              "      fill: #FFFFFF;\n",
              "    }\n",
              "  </style>\n",
              "\n",
              "    <script>\n",
              "      const buttonEl =\n",
              "        document.querySelector('#df-af46a2f3-495b-41b6-be2e-e076b086208e button.colab-df-convert');\n",
              "      buttonEl.style.display =\n",
              "        google.colab.kernel.accessAllowed ? 'block' : 'none';\n",
              "\n",
              "      async function convertToInteractive(key) {\n",
              "        const element = document.querySelector('#df-af46a2f3-495b-41b6-be2e-e076b086208e');\n",
              "        const dataTable =\n",
              "          await google.colab.kernel.invokeFunction('convertToInteractive',\n",
              "                                                    [key], {});\n",
              "        if (!dataTable) return;\n",
              "\n",
              "        const docLinkHtml = 'Like what you see? Visit the ' +\n",
              "          '<a target=\"_blank\" href=https://colab.research.google.com/notebooks/data_table.ipynb>data table notebook</a>'\n",
              "          + ' to learn more about interactive tables.';\n",
              "        element.innerHTML = '';\n",
              "        dataTable['output_type'] = 'display_data';\n",
              "        await google.colab.output.renderOutput(dataTable, element);\n",
              "        const docLink = document.createElement('div');\n",
              "        docLink.innerHTML = docLinkHtml;\n",
              "        element.appendChild(docLink);\n",
              "      }\n",
              "    </script>\n",
              "  </div>\n",
              "\n",
              "\n",
              "<div id=\"df-e573b681-0b4d-4b0d-9a95-70b0ce5b0082\">\n",
              "  <button class=\"colab-df-quickchart\" onclick=\"quickchart('df-e573b681-0b4d-4b0d-9a95-70b0ce5b0082')\"\n",
              "            title=\"Suggest charts\"\n",
              "            style=\"display:none;\">\n",
              "\n",
              "<svg xmlns=\"http://www.w3.org/2000/svg\" height=\"24px\"viewBox=\"0 0 24 24\"\n",
              "     width=\"24px\">\n",
              "    <g>\n",
              "        <path d=\"M19 3H5c-1.1 0-2 .9-2 2v14c0 1.1.9 2 2 2h14c1.1 0 2-.9 2-2V5c0-1.1-.9-2-2-2zM9 17H7v-7h2v7zm4 0h-2V7h2v10zm4 0h-2v-4h2v4z\"/>\n",
              "    </g>\n",
              "</svg>\n",
              "  </button>\n",
              "\n",
              "<style>\n",
              "  .colab-df-quickchart {\n",
              "      --bg-color: #E8F0FE;\n",
              "      --fill-color: #1967D2;\n",
              "      --hover-bg-color: #E2EBFA;\n",
              "      --hover-fill-color: #174EA6;\n",
              "      --disabled-fill-color: #AAA;\n",
              "      --disabled-bg-color: #DDD;\n",
              "  }\n",
              "\n",
              "  [theme=dark] .colab-df-quickchart {\n",
              "      --bg-color: #3B4455;\n",
              "      --fill-color: #D2E3FC;\n",
              "      --hover-bg-color: #434B5C;\n",
              "      --hover-fill-color: #FFFFFF;\n",
              "      --disabled-bg-color: #3B4455;\n",
              "      --disabled-fill-color: #666;\n",
              "  }\n",
              "\n",
              "  .colab-df-quickchart {\n",
              "    background-color: var(--bg-color);\n",
              "    border: none;\n",
              "    border-radius: 50%;\n",
              "    cursor: pointer;\n",
              "    display: none;\n",
              "    fill: var(--fill-color);\n",
              "    height: 32px;\n",
              "    padding: 0;\n",
              "    width: 32px;\n",
              "  }\n",
              "\n",
              "  .colab-df-quickchart:hover {\n",
              "    background-color: var(--hover-bg-color);\n",
              "    box-shadow: 0 1px 2px rgba(60, 64, 67, 0.3), 0 1px 3px 1px rgba(60, 64, 67, 0.15);\n",
              "    fill: var(--button-hover-fill-color);\n",
              "  }\n",
              "\n",
              "  .colab-df-quickchart-complete:disabled,\n",
              "  .colab-df-quickchart-complete:disabled:hover {\n",
              "    background-color: var(--disabled-bg-color);\n",
              "    fill: var(--disabled-fill-color);\n",
              "    box-shadow: none;\n",
              "  }\n",
              "\n",
              "  .colab-df-spinner {\n",
              "    border: 2px solid var(--fill-color);\n",
              "    border-color: transparent;\n",
              "    border-bottom-color: var(--fill-color);\n",
              "    animation:\n",
              "      spin 1s steps(1) infinite;\n",
              "  }\n",
              "\n",
              "  @keyframes spin {\n",
              "    0% {\n",
              "      border-color: transparent;\n",
              "      border-bottom-color: var(--fill-color);\n",
              "      border-left-color: var(--fill-color);\n",
              "    }\n",
              "    20% {\n",
              "      border-color: transparent;\n",
              "      border-left-color: var(--fill-color);\n",
              "      border-top-color: var(--fill-color);\n",
              "    }\n",
              "    30% {\n",
              "      border-color: transparent;\n",
              "      border-left-color: var(--fill-color);\n",
              "      border-top-color: var(--fill-color);\n",
              "      border-right-color: var(--fill-color);\n",
              "    }\n",
              "    40% {\n",
              "      border-color: transparent;\n",
              "      border-right-color: var(--fill-color);\n",
              "      border-top-color: var(--fill-color);\n",
              "    }\n",
              "    60% {\n",
              "      border-color: transparent;\n",
              "      border-right-color: var(--fill-color);\n",
              "    }\n",
              "    80% {\n",
              "      border-color: transparent;\n",
              "      border-right-color: var(--fill-color);\n",
              "      border-bottom-color: var(--fill-color);\n",
              "    }\n",
              "    90% {\n",
              "      border-color: transparent;\n",
              "      border-bottom-color: var(--fill-color);\n",
              "    }\n",
              "  }\n",
              "</style>\n",
              "\n",
              "  <script>\n",
              "    async function quickchart(key) {\n",
              "      const quickchartButtonEl =\n",
              "        document.querySelector('#' + key + ' button');\n",
              "      quickchartButtonEl.disabled = true;  // To prevent multiple clicks.\n",
              "      quickchartButtonEl.classList.add('colab-df-spinner');\n",
              "      try {\n",
              "        const charts = await google.colab.kernel.invokeFunction(\n",
              "            'suggestCharts', [key], {});\n",
              "      } catch (error) {\n",
              "        console.error('Error during call to suggestCharts:', error);\n",
              "      }\n",
              "      quickchartButtonEl.classList.remove('colab-df-spinner');\n",
              "      quickchartButtonEl.classList.add('colab-df-quickchart-complete');\n",
              "    }\n",
              "    (() => {\n",
              "      let quickchartButtonEl =\n",
              "        document.querySelector('#df-e573b681-0b4d-4b0d-9a95-70b0ce5b0082 button');\n",
              "      quickchartButtonEl.style.display =\n",
              "        google.colab.kernel.accessAllowed ? 'block' : 'none';\n",
              "    })();\n",
              "  </script>\n",
              "</div>\n",
              "    </div>\n",
              "  </div>\n"
            ]
          },
          "metadata": {},
          "execution_count": 132
        }
      ]
    },
    {
      "cell_type": "markdown",
      "source": [
        "#columns of df1"
      ],
      "metadata": {
        "id": "YGBQD6BG0xo8"
      }
    },
    {
      "cell_type": "code",
      "source": [
        "df1.columns"
      ],
      "metadata": {
        "colab": {
          "base_uri": "https://localhost:8080/"
        },
        "id": "1HwJSJvQC2o2",
        "outputId": "c19058e3-77ae-4f55-8291-36bb3f395dac"
      },
      "execution_count": null,
      "outputs": [
        {
          "output_type": "execute_result",
          "data": {
            "text/plain": [
              "Index(['match_id', 'inning', 'batting_team', 'bowling_team', 'over', 'ball',\n",
              "       'batsman', 'non_striker', 'bowler', 'is_super_over', 'wide_runs',\n",
              "       'bye_runs', 'legbye_runs', 'noball_runs', 'penalty_runs',\n",
              "       'batsman_runs', 'extra_runs', 'total_runs', 'player_dismissed',\n",
              "       'dismissal_kind', 'fielder'],\n",
              "      dtype='object')"
            ]
          },
          "metadata": {},
          "execution_count": 10
        }
      ]
    },
    {
      "cell_type": "code",
      "source": [
        "#columns of df2\n",
        "df2.columns"
      ],
      "metadata": {
        "colab": {
          "base_uri": "https://localhost:8080/"
        },
        "id": "6VxJNsvRC2lS",
        "outputId": "6b1df175-6414-423a-933b-3a01461f5574"
      },
      "execution_count": null,
      "outputs": [
        {
          "output_type": "execute_result",
          "data": {
            "text/plain": [
              "Index(['id', 'season', 'city', 'date', 'team1', 'team2', 'toss_winner',\n",
              "       'toss_decision', 'result', 'dl_applied', 'winner', 'win_by_runs',\n",
              "       'win_by_wickets', 'player_of_match', 'venue', 'umpire1', 'umpire2',\n",
              "       'umpire3'],\n",
              "      dtype='object')"
            ]
          },
          "metadata": {},
          "execution_count": 11
        }
      ]
    },
    {
      "cell_type": "code",
      "source": [
        "#columns of merge_data_id\n",
        "merged_data_id.columns"
      ],
      "metadata": {
        "colab": {
          "base_uri": "https://localhost:8080/"
        },
        "id": "cc0-7m3YDB1K",
        "outputId": "3136a0c9-092f-4561-ab51-70ca6138b069"
      },
      "execution_count": null,
      "outputs": [
        {
          "output_type": "execute_result",
          "data": {
            "text/plain": [
              "Index(['match_id', 'inning', 'batting_team', 'bowling_team', 'over', 'ball',\n",
              "       'batsman', 'non_striker', 'bowler', 'is_super_over', 'wide_runs',\n",
              "       'bye_runs', 'legbye_runs', 'noball_runs', 'penalty_runs',\n",
              "       'batsman_runs', 'extra_runs', 'total_runs', 'player_dismissed',\n",
              "       'dismissal_kind', 'fielder', 'id', 'season', 'city', 'date', 'team1',\n",
              "       'team2', 'toss_winner', 'toss_decision', 'result', 'dl_applied',\n",
              "       'winner', 'win_by_runs', 'win_by_wickets', 'player_of_match', 'venue',\n",
              "       'umpire1', 'umpire2', 'umpire3'],\n",
              "      dtype='object')"
            ]
          },
          "metadata": {},
          "execution_count": 133
        }
      ]
    },
    {
      "cell_type": "code",
      "source": [
        "# merge based on match_id\n",
        "merged_data_dl_applied = pd.merge(df1, df2, left_on='match_id', right_on='dl_applied', how='left')\n",
        "# filter the merged data based on dl_applied\n",
        "merged_data_dl_applied_filtered = merged_data_dl_applied[merged_data_dl_applied['dl_applied'].notnull()]\n",
        "merged_data_dl_applied_filtered"
      ],
      "metadata": {
        "colab": {
          "base_uri": "https://localhost:8080/",
          "height": 826
        },
        "id": "v0XPpUkmDQtI",
        "outputId": "785f0eaf-affd-400c-ccb1-094874147b1d"
      },
      "execution_count": null,
      "outputs": [
        {
          "output_type": "execute_result",
          "data": {
            "text/plain": [
              "      match_id  inning                 batting_team  \\\n",
              "0            1       1          Sunrisers Hyderabad   \n",
              "1            1       1          Sunrisers Hyderabad   \n",
              "2            1       1          Sunrisers Hyderabad   \n",
              "3            1       1          Sunrisers Hyderabad   \n",
              "4            1       1          Sunrisers Hyderabad   \n",
              "...        ...     ...                          ...   \n",
              "4707         1       2  Royal Challengers Bangalore   \n",
              "4708         1       2  Royal Challengers Bangalore   \n",
              "4709         1       2  Royal Challengers Bangalore   \n",
              "4710         1       2  Royal Challengers Bangalore   \n",
              "4711         1       2  Royal Challengers Bangalore   \n",
              "\n",
              "                     bowling_team  over  ball      batsman non_striker  \\\n",
              "0     Royal Challengers Bangalore     1     1    DA Warner    S Dhawan   \n",
              "1     Royal Challengers Bangalore     1     1    DA Warner    S Dhawan   \n",
              "2     Royal Challengers Bangalore     1     1    DA Warner    S Dhawan   \n",
              "3     Royal Challengers Bangalore     1     1    DA Warner    S Dhawan   \n",
              "4     Royal Challengers Bangalore     1     1    DA Warner    S Dhawan   \n",
              "...                           ...   ...   ...          ...         ...   \n",
              "4707          Sunrisers Hyderabad    20     4  A Choudhary   YS Chahal   \n",
              "4708          Sunrisers Hyderabad    20     4  A Choudhary   YS Chahal   \n",
              "4709          Sunrisers Hyderabad    20     4  A Choudhary   YS Chahal   \n",
              "4710          Sunrisers Hyderabad    20     4  A Choudhary   YS Chahal   \n",
              "4711          Sunrisers Hyderabad    20     4  A Choudhary   YS Chahal   \n",
              "\n",
              "           bowler  is_super_over  ...  result  dl_applied  \\\n",
              "0        TS Mills              0  ...  normal         1.0   \n",
              "1        TS Mills              0  ...  normal         1.0   \n",
              "2        TS Mills              0  ...  normal         1.0   \n",
              "3        TS Mills              0  ...  normal         1.0   \n",
              "4        TS Mills              0  ...  normal         1.0   \n",
              "...           ...            ...  ...     ...         ...   \n",
              "4707  BCJ Cutting              0  ...  normal         1.0   \n",
              "4708  BCJ Cutting              0  ...  normal         1.0   \n",
              "4709  BCJ Cutting              0  ...  normal         1.0   \n",
              "4710  BCJ Cutting              0  ...  normal         1.0   \n",
              "4711  BCJ Cutting              0  ...  normal         1.0   \n",
              "\n",
              "                           winner  win_by_runs  win_by_wickets  \\\n",
              "0           Kolkata Knight Riders          0.0             7.0   \n",
              "1                 Kings XI Punjab          6.0             0.0   \n",
              "2             Chennai Super Kings          3.0             0.0   \n",
              "3                Delhi Daredevils          0.0            10.0   \n",
              "4           Kolkata Knight Riders         11.0             0.0   \n",
              "...                           ...          ...             ...   \n",
              "4707      Rising Pune Supergiants         19.0             0.0   \n",
              "4708  Royal Challengers Bangalore         82.0             0.0   \n",
              "4709             Rajasthan Royals         10.0             0.0   \n",
              "4710              Kings XI Punjab          0.0             9.0   \n",
              "4711             Delhi Daredevils          4.0             0.0   \n",
              "\n",
              "       player_of_match                                              venue  \\\n",
              "0      NM Coulter-Nile                              M Chinnaswamy Stadium   \n",
              "1     DPMD Jayawardene                                   Feroz Shah Kotla   \n",
              "2              M Ntini                                       Eden Gardens   \n",
              "3           DL Vettori                                           Newlands   \n",
              "4             CH Gayle                                          Kingsmead   \n",
              "...                ...                                                ...   \n",
              "4707          AB Dinda  Dr. Y.S. Rajasekhara Reddy ACA-VDCA Cricket St...   \n",
              "4708           V Kohli                              M Chinnaswamy Stadium   \n",
              "4709         SV Samson                             Sawai Mansingh Stadium   \n",
              "4710          KL Rahul                                       Eden Gardens   \n",
              "4711           RR Pant                                   Feroz Shah Kotla   \n",
              "\n",
              "                    umpire1                umpire2         umpire3  \n",
              "0              AK Chaudhary            Nitin Menon             NaN  \n",
              "1            AV Jayaprakash            RE Koertzen             NaN  \n",
              "2                 Asad Rauf            K Hariharan             NaN  \n",
              "3                 MR Benson              SD Ranade             NaN  \n",
              "4                 DJ Harper              SD Ranade             NaN  \n",
              "...                     ...                    ...             ...  \n",
              "4707            Nitin Menon          C Shamshuddin             NaN  \n",
              "4708  KN Ananthapadmanabhan              M Erasmus             NaN  \n",
              "4709   K Ananthapadmanabhan             Rod Tucker     Nitin Menon  \n",
              "4710          C Shamshuddin           A.D Deshmukh          S Ravi  \n",
              "4711               O Nandan  Virender Kumar Sharma  Bruce Oxenford  \n",
              "\n",
              "[4712 rows x 39 columns]"
            ],
            "text/html": [
              "\n",
              "  <div id=\"df-82456c00-637e-4965-8608-b4fae5cc02fc\" class=\"colab-df-container\">\n",
              "    <div>\n",
              "<style scoped>\n",
              "    .dataframe tbody tr th:only-of-type {\n",
              "        vertical-align: middle;\n",
              "    }\n",
              "\n",
              "    .dataframe tbody tr th {\n",
              "        vertical-align: top;\n",
              "    }\n",
              "\n",
              "    .dataframe thead th {\n",
              "        text-align: right;\n",
              "    }\n",
              "</style>\n",
              "<table border=\"1\" class=\"dataframe\">\n",
              "  <thead>\n",
              "    <tr style=\"text-align: right;\">\n",
              "      <th></th>\n",
              "      <th>match_id</th>\n",
              "      <th>inning</th>\n",
              "      <th>batting_team</th>\n",
              "      <th>bowling_team</th>\n",
              "      <th>over</th>\n",
              "      <th>ball</th>\n",
              "      <th>batsman</th>\n",
              "      <th>non_striker</th>\n",
              "      <th>bowler</th>\n",
              "      <th>is_super_over</th>\n",
              "      <th>...</th>\n",
              "      <th>result</th>\n",
              "      <th>dl_applied</th>\n",
              "      <th>winner</th>\n",
              "      <th>win_by_runs</th>\n",
              "      <th>win_by_wickets</th>\n",
              "      <th>player_of_match</th>\n",
              "      <th>venue</th>\n",
              "      <th>umpire1</th>\n",
              "      <th>umpire2</th>\n",
              "      <th>umpire3</th>\n",
              "    </tr>\n",
              "  </thead>\n",
              "  <tbody>\n",
              "    <tr>\n",
              "      <th>0</th>\n",
              "      <td>1</td>\n",
              "      <td>1</td>\n",
              "      <td>Sunrisers Hyderabad</td>\n",
              "      <td>Royal Challengers Bangalore</td>\n",
              "      <td>1</td>\n",
              "      <td>1</td>\n",
              "      <td>DA Warner</td>\n",
              "      <td>S Dhawan</td>\n",
              "      <td>TS Mills</td>\n",
              "      <td>0</td>\n",
              "      <td>...</td>\n",
              "      <td>normal</td>\n",
              "      <td>1.0</td>\n",
              "      <td>Kolkata Knight Riders</td>\n",
              "      <td>0.0</td>\n",
              "      <td>7.0</td>\n",
              "      <td>NM Coulter-Nile</td>\n",
              "      <td>M Chinnaswamy Stadium</td>\n",
              "      <td>AK Chaudhary</td>\n",
              "      <td>Nitin Menon</td>\n",
              "      <td>NaN</td>\n",
              "    </tr>\n",
              "    <tr>\n",
              "      <th>1</th>\n",
              "      <td>1</td>\n",
              "      <td>1</td>\n",
              "      <td>Sunrisers Hyderabad</td>\n",
              "      <td>Royal Challengers Bangalore</td>\n",
              "      <td>1</td>\n",
              "      <td>1</td>\n",
              "      <td>DA Warner</td>\n",
              "      <td>S Dhawan</td>\n",
              "      <td>TS Mills</td>\n",
              "      <td>0</td>\n",
              "      <td>...</td>\n",
              "      <td>normal</td>\n",
              "      <td>1.0</td>\n",
              "      <td>Kings XI Punjab</td>\n",
              "      <td>6.0</td>\n",
              "      <td>0.0</td>\n",
              "      <td>DPMD Jayawardene</td>\n",
              "      <td>Feroz Shah Kotla</td>\n",
              "      <td>AV Jayaprakash</td>\n",
              "      <td>RE Koertzen</td>\n",
              "      <td>NaN</td>\n",
              "    </tr>\n",
              "    <tr>\n",
              "      <th>2</th>\n",
              "      <td>1</td>\n",
              "      <td>1</td>\n",
              "      <td>Sunrisers Hyderabad</td>\n",
              "      <td>Royal Challengers Bangalore</td>\n",
              "      <td>1</td>\n",
              "      <td>1</td>\n",
              "      <td>DA Warner</td>\n",
              "      <td>S Dhawan</td>\n",
              "      <td>TS Mills</td>\n",
              "      <td>0</td>\n",
              "      <td>...</td>\n",
              "      <td>normal</td>\n",
              "      <td>1.0</td>\n",
              "      <td>Chennai Super Kings</td>\n",
              "      <td>3.0</td>\n",
              "      <td>0.0</td>\n",
              "      <td>M Ntini</td>\n",
              "      <td>Eden Gardens</td>\n",
              "      <td>Asad Rauf</td>\n",
              "      <td>K Hariharan</td>\n",
              "      <td>NaN</td>\n",
              "    </tr>\n",
              "    <tr>\n",
              "      <th>3</th>\n",
              "      <td>1</td>\n",
              "      <td>1</td>\n",
              "      <td>Sunrisers Hyderabad</td>\n",
              "      <td>Royal Challengers Bangalore</td>\n",
              "      <td>1</td>\n",
              "      <td>1</td>\n",
              "      <td>DA Warner</td>\n",
              "      <td>S Dhawan</td>\n",
              "      <td>TS Mills</td>\n",
              "      <td>0</td>\n",
              "      <td>...</td>\n",
              "      <td>normal</td>\n",
              "      <td>1.0</td>\n",
              "      <td>Delhi Daredevils</td>\n",
              "      <td>0.0</td>\n",
              "      <td>10.0</td>\n",
              "      <td>DL Vettori</td>\n",
              "      <td>Newlands</td>\n",
              "      <td>MR Benson</td>\n",
              "      <td>SD Ranade</td>\n",
              "      <td>NaN</td>\n",
              "    </tr>\n",
              "    <tr>\n",
              "      <th>4</th>\n",
              "      <td>1</td>\n",
              "      <td>1</td>\n",
              "      <td>Sunrisers Hyderabad</td>\n",
              "      <td>Royal Challengers Bangalore</td>\n",
              "      <td>1</td>\n",
              "      <td>1</td>\n",
              "      <td>DA Warner</td>\n",
              "      <td>S Dhawan</td>\n",
              "      <td>TS Mills</td>\n",
              "      <td>0</td>\n",
              "      <td>...</td>\n",
              "      <td>normal</td>\n",
              "      <td>1.0</td>\n",
              "      <td>Kolkata Knight Riders</td>\n",
              "      <td>11.0</td>\n",
              "      <td>0.0</td>\n",
              "      <td>CH Gayle</td>\n",
              "      <td>Kingsmead</td>\n",
              "      <td>DJ Harper</td>\n",
              "      <td>SD Ranade</td>\n",
              "      <td>NaN</td>\n",
              "    </tr>\n",
              "    <tr>\n",
              "      <th>...</th>\n",
              "      <td>...</td>\n",
              "      <td>...</td>\n",
              "      <td>...</td>\n",
              "      <td>...</td>\n",
              "      <td>...</td>\n",
              "      <td>...</td>\n",
              "      <td>...</td>\n",
              "      <td>...</td>\n",
              "      <td>...</td>\n",
              "      <td>...</td>\n",
              "      <td>...</td>\n",
              "      <td>...</td>\n",
              "      <td>...</td>\n",
              "      <td>...</td>\n",
              "      <td>...</td>\n",
              "      <td>...</td>\n",
              "      <td>...</td>\n",
              "      <td>...</td>\n",
              "      <td>...</td>\n",
              "      <td>...</td>\n",
              "      <td>...</td>\n",
              "    </tr>\n",
              "    <tr>\n",
              "      <th>4707</th>\n",
              "      <td>1</td>\n",
              "      <td>2</td>\n",
              "      <td>Royal Challengers Bangalore</td>\n",
              "      <td>Sunrisers Hyderabad</td>\n",
              "      <td>20</td>\n",
              "      <td>4</td>\n",
              "      <td>A Choudhary</td>\n",
              "      <td>YS Chahal</td>\n",
              "      <td>BCJ Cutting</td>\n",
              "      <td>0</td>\n",
              "      <td>...</td>\n",
              "      <td>normal</td>\n",
              "      <td>1.0</td>\n",
              "      <td>Rising Pune Supergiants</td>\n",
              "      <td>19.0</td>\n",
              "      <td>0.0</td>\n",
              "      <td>AB Dinda</td>\n",
              "      <td>Dr. Y.S. Rajasekhara Reddy ACA-VDCA Cricket St...</td>\n",
              "      <td>Nitin Menon</td>\n",
              "      <td>C Shamshuddin</td>\n",
              "      <td>NaN</td>\n",
              "    </tr>\n",
              "    <tr>\n",
              "      <th>4708</th>\n",
              "      <td>1</td>\n",
              "      <td>2</td>\n",
              "      <td>Royal Challengers Bangalore</td>\n",
              "      <td>Sunrisers Hyderabad</td>\n",
              "      <td>20</td>\n",
              "      <td>4</td>\n",
              "      <td>A Choudhary</td>\n",
              "      <td>YS Chahal</td>\n",
              "      <td>BCJ Cutting</td>\n",
              "      <td>0</td>\n",
              "      <td>...</td>\n",
              "      <td>normal</td>\n",
              "      <td>1.0</td>\n",
              "      <td>Royal Challengers Bangalore</td>\n",
              "      <td>82.0</td>\n",
              "      <td>0.0</td>\n",
              "      <td>V Kohli</td>\n",
              "      <td>M Chinnaswamy Stadium</td>\n",
              "      <td>KN Ananthapadmanabhan</td>\n",
              "      <td>M Erasmus</td>\n",
              "      <td>NaN</td>\n",
              "    </tr>\n",
              "    <tr>\n",
              "      <th>4709</th>\n",
              "      <td>1</td>\n",
              "      <td>2</td>\n",
              "      <td>Royal Challengers Bangalore</td>\n",
              "      <td>Sunrisers Hyderabad</td>\n",
              "      <td>20</td>\n",
              "      <td>4</td>\n",
              "      <td>A Choudhary</td>\n",
              "      <td>YS Chahal</td>\n",
              "      <td>BCJ Cutting</td>\n",
              "      <td>0</td>\n",
              "      <td>...</td>\n",
              "      <td>normal</td>\n",
              "      <td>1.0</td>\n",
              "      <td>Rajasthan Royals</td>\n",
              "      <td>10.0</td>\n",
              "      <td>0.0</td>\n",
              "      <td>SV Samson</td>\n",
              "      <td>Sawai Mansingh Stadium</td>\n",
              "      <td>K Ananthapadmanabhan</td>\n",
              "      <td>Rod Tucker</td>\n",
              "      <td>Nitin Menon</td>\n",
              "    </tr>\n",
              "    <tr>\n",
              "      <th>4710</th>\n",
              "      <td>1</td>\n",
              "      <td>2</td>\n",
              "      <td>Royal Challengers Bangalore</td>\n",
              "      <td>Sunrisers Hyderabad</td>\n",
              "      <td>20</td>\n",
              "      <td>4</td>\n",
              "      <td>A Choudhary</td>\n",
              "      <td>YS Chahal</td>\n",
              "      <td>BCJ Cutting</td>\n",
              "      <td>0</td>\n",
              "      <td>...</td>\n",
              "      <td>normal</td>\n",
              "      <td>1.0</td>\n",
              "      <td>Kings XI Punjab</td>\n",
              "      <td>0.0</td>\n",
              "      <td>9.0</td>\n",
              "      <td>KL Rahul</td>\n",
              "      <td>Eden Gardens</td>\n",
              "      <td>C Shamshuddin</td>\n",
              "      <td>A.D Deshmukh</td>\n",
              "      <td>S Ravi</td>\n",
              "    </tr>\n",
              "    <tr>\n",
              "      <th>4711</th>\n",
              "      <td>1</td>\n",
              "      <td>2</td>\n",
              "      <td>Royal Challengers Bangalore</td>\n",
              "      <td>Sunrisers Hyderabad</td>\n",
              "      <td>20</td>\n",
              "      <td>4</td>\n",
              "      <td>A Choudhary</td>\n",
              "      <td>YS Chahal</td>\n",
              "      <td>BCJ Cutting</td>\n",
              "      <td>0</td>\n",
              "      <td>...</td>\n",
              "      <td>normal</td>\n",
              "      <td>1.0</td>\n",
              "      <td>Delhi Daredevils</td>\n",
              "      <td>4.0</td>\n",
              "      <td>0.0</td>\n",
              "      <td>RR Pant</td>\n",
              "      <td>Feroz Shah Kotla</td>\n",
              "      <td>O Nandan</td>\n",
              "      <td>Virender Kumar Sharma</td>\n",
              "      <td>Bruce Oxenford</td>\n",
              "    </tr>\n",
              "  </tbody>\n",
              "</table>\n",
              "<p>4712 rows × 39 columns</p>\n",
              "</div>\n",
              "    <div class=\"colab-df-buttons\">\n",
              "\n",
              "  <div class=\"colab-df-container\">\n",
              "    <button class=\"colab-df-convert\" onclick=\"convertToInteractive('df-82456c00-637e-4965-8608-b4fae5cc02fc')\"\n",
              "            title=\"Convert this dataframe to an interactive table.\"\n",
              "            style=\"display:none;\">\n",
              "\n",
              "  <svg xmlns=\"http://www.w3.org/2000/svg\" height=\"24px\" viewBox=\"0 -960 960 960\">\n",
              "    <path d=\"M120-120v-720h720v720H120Zm60-500h600v-160H180v160Zm220 220h160v-160H400v160Zm0 220h160v-160H400v160ZM180-400h160v-160H180v160Zm440 0h160v-160H620v160ZM180-180h160v-160H180v160Zm440 0h160v-160H620v160Z\"/>\n",
              "  </svg>\n",
              "    </button>\n",
              "\n",
              "  <style>\n",
              "    .colab-df-container {\n",
              "      display:flex;\n",
              "      gap: 12px;\n",
              "    }\n",
              "\n",
              "    .colab-df-convert {\n",
              "      background-color: #E8F0FE;\n",
              "      border: none;\n",
              "      border-radius: 50%;\n",
              "      cursor: pointer;\n",
              "      display: none;\n",
              "      fill: #1967D2;\n",
              "      height: 32px;\n",
              "      padding: 0 0 0 0;\n",
              "      width: 32px;\n",
              "    }\n",
              "\n",
              "    .colab-df-convert:hover {\n",
              "      background-color: #E2EBFA;\n",
              "      box-shadow: 0px 1px 2px rgba(60, 64, 67, 0.3), 0px 1px 3px 1px rgba(60, 64, 67, 0.15);\n",
              "      fill: #174EA6;\n",
              "    }\n",
              "\n",
              "    .colab-df-buttons div {\n",
              "      margin-bottom: 4px;\n",
              "    }\n",
              "\n",
              "    [theme=dark] .colab-df-convert {\n",
              "      background-color: #3B4455;\n",
              "      fill: #D2E3FC;\n",
              "    }\n",
              "\n",
              "    [theme=dark] .colab-df-convert:hover {\n",
              "      background-color: #434B5C;\n",
              "      box-shadow: 0px 1px 3px 1px rgba(0, 0, 0, 0.15);\n",
              "      filter: drop-shadow(0px 1px 2px rgba(0, 0, 0, 0.3));\n",
              "      fill: #FFFFFF;\n",
              "    }\n",
              "  </style>\n",
              "\n",
              "    <script>\n",
              "      const buttonEl =\n",
              "        document.querySelector('#df-82456c00-637e-4965-8608-b4fae5cc02fc button.colab-df-convert');\n",
              "      buttonEl.style.display =\n",
              "        google.colab.kernel.accessAllowed ? 'block' : 'none';\n",
              "\n",
              "      async function convertToInteractive(key) {\n",
              "        const element = document.querySelector('#df-82456c00-637e-4965-8608-b4fae5cc02fc');\n",
              "        const dataTable =\n",
              "          await google.colab.kernel.invokeFunction('convertToInteractive',\n",
              "                                                    [key], {});\n",
              "        if (!dataTable) return;\n",
              "\n",
              "        const docLinkHtml = 'Like what you see? Visit the ' +\n",
              "          '<a target=\"_blank\" href=https://colab.research.google.com/notebooks/data_table.ipynb>data table notebook</a>'\n",
              "          + ' to learn more about interactive tables.';\n",
              "        element.innerHTML = '';\n",
              "        dataTable['output_type'] = 'display_data';\n",
              "        await google.colab.output.renderOutput(dataTable, element);\n",
              "        const docLink = document.createElement('div');\n",
              "        docLink.innerHTML = docLinkHtml;\n",
              "        element.appendChild(docLink);\n",
              "      }\n",
              "    </script>\n",
              "  </div>\n",
              "\n",
              "\n",
              "<div id=\"df-2c5309de-a5e6-4048-88db-3334784d287d\">\n",
              "  <button class=\"colab-df-quickchart\" onclick=\"quickchart('df-2c5309de-a5e6-4048-88db-3334784d287d')\"\n",
              "            title=\"Suggest charts\"\n",
              "            style=\"display:none;\">\n",
              "\n",
              "<svg xmlns=\"http://www.w3.org/2000/svg\" height=\"24px\"viewBox=\"0 0 24 24\"\n",
              "     width=\"24px\">\n",
              "    <g>\n",
              "        <path d=\"M19 3H5c-1.1 0-2 .9-2 2v14c0 1.1.9 2 2 2h14c1.1 0 2-.9 2-2V5c0-1.1-.9-2-2-2zM9 17H7v-7h2v7zm4 0h-2V7h2v10zm4 0h-2v-4h2v4z\"/>\n",
              "    </g>\n",
              "</svg>\n",
              "  </button>\n",
              "\n",
              "<style>\n",
              "  .colab-df-quickchart {\n",
              "      --bg-color: #E8F0FE;\n",
              "      --fill-color: #1967D2;\n",
              "      --hover-bg-color: #E2EBFA;\n",
              "      --hover-fill-color: #174EA6;\n",
              "      --disabled-fill-color: #AAA;\n",
              "      --disabled-bg-color: #DDD;\n",
              "  }\n",
              "\n",
              "  [theme=dark] .colab-df-quickchart {\n",
              "      --bg-color: #3B4455;\n",
              "      --fill-color: #D2E3FC;\n",
              "      --hover-bg-color: #434B5C;\n",
              "      --hover-fill-color: #FFFFFF;\n",
              "      --disabled-bg-color: #3B4455;\n",
              "      --disabled-fill-color: #666;\n",
              "  }\n",
              "\n",
              "  .colab-df-quickchart {\n",
              "    background-color: var(--bg-color);\n",
              "    border: none;\n",
              "    border-radius: 50%;\n",
              "    cursor: pointer;\n",
              "    display: none;\n",
              "    fill: var(--fill-color);\n",
              "    height: 32px;\n",
              "    padding: 0;\n",
              "    width: 32px;\n",
              "  }\n",
              "\n",
              "  .colab-df-quickchart:hover {\n",
              "    background-color: var(--hover-bg-color);\n",
              "    box-shadow: 0 1px 2px rgba(60, 64, 67, 0.3), 0 1px 3px 1px rgba(60, 64, 67, 0.15);\n",
              "    fill: var(--button-hover-fill-color);\n",
              "  }\n",
              "\n",
              "  .colab-df-quickchart-complete:disabled,\n",
              "  .colab-df-quickchart-complete:disabled:hover {\n",
              "    background-color: var(--disabled-bg-color);\n",
              "    fill: var(--disabled-fill-color);\n",
              "    box-shadow: none;\n",
              "  }\n",
              "\n",
              "  .colab-df-spinner {\n",
              "    border: 2px solid var(--fill-color);\n",
              "    border-color: transparent;\n",
              "    border-bottom-color: var(--fill-color);\n",
              "    animation:\n",
              "      spin 1s steps(1) infinite;\n",
              "  }\n",
              "\n",
              "  @keyframes spin {\n",
              "    0% {\n",
              "      border-color: transparent;\n",
              "      border-bottom-color: var(--fill-color);\n",
              "      border-left-color: var(--fill-color);\n",
              "    }\n",
              "    20% {\n",
              "      border-color: transparent;\n",
              "      border-left-color: var(--fill-color);\n",
              "      border-top-color: var(--fill-color);\n",
              "    }\n",
              "    30% {\n",
              "      border-color: transparent;\n",
              "      border-left-color: var(--fill-color);\n",
              "      border-top-color: var(--fill-color);\n",
              "      border-right-color: var(--fill-color);\n",
              "    }\n",
              "    40% {\n",
              "      border-color: transparent;\n",
              "      border-right-color: var(--fill-color);\n",
              "      border-top-color: var(--fill-color);\n",
              "    }\n",
              "    60% {\n",
              "      border-color: transparent;\n",
              "      border-right-color: var(--fill-color);\n",
              "    }\n",
              "    80% {\n",
              "      border-color: transparent;\n",
              "      border-right-color: var(--fill-color);\n",
              "      border-bottom-color: var(--fill-color);\n",
              "    }\n",
              "    90% {\n",
              "      border-color: transparent;\n",
              "      border-bottom-color: var(--fill-color);\n",
              "    }\n",
              "  }\n",
              "</style>\n",
              "\n",
              "  <script>\n",
              "    async function quickchart(key) {\n",
              "      const quickchartButtonEl =\n",
              "        document.querySelector('#' + key + ' button');\n",
              "      quickchartButtonEl.disabled = true;  // To prevent multiple clicks.\n",
              "      quickchartButtonEl.classList.add('colab-df-spinner');\n",
              "      try {\n",
              "        const charts = await google.colab.kernel.invokeFunction(\n",
              "            'suggestCharts', [key], {});\n",
              "      } catch (error) {\n",
              "        console.error('Error during call to suggestCharts:', error);\n",
              "      }\n",
              "      quickchartButtonEl.classList.remove('colab-df-spinner');\n",
              "      quickchartButtonEl.classList.add('colab-df-quickchart-complete');\n",
              "    }\n",
              "    (() => {\n",
              "      let quickchartButtonEl =\n",
              "        document.querySelector('#df-2c5309de-a5e6-4048-88db-3334784d287d button');\n",
              "      quickchartButtonEl.style.display =\n",
              "        google.colab.kernel.accessAllowed ? 'block' : 'none';\n",
              "    })();\n",
              "  </script>\n",
              "</div>\n",
              "    </div>\n",
              "  </div>\n"
            ]
          },
          "metadata": {},
          "execution_count": 134
        }
      ]
    },
    {
      "cell_type": "markdown",
      "source": [
        "#check missing values of city,venue,umpire3 , and overall data"
      ],
      "metadata": {
        "id": "yerIcq6M1Y9j"
      }
    },
    {
      "cell_type": "code",
      "source": [
        "missing_values_city = merged_data_id['city'].isnull().sum()\n",
        "missing_values_city"
      ],
      "metadata": {
        "colab": {
          "base_uri": "https://localhost:8080/"
        },
        "id": "V6fCuLSbEgE1",
        "outputId": "fbe9e895-9256-401b-f7b5-14fe1716bc88"
      },
      "execution_count": null,
      "outputs": [
        {
          "output_type": "execute_result",
          "data": {
            "text/plain": [
              "1700"
            ]
          },
          "metadata": {},
          "execution_count": 18
        }
      ]
    },
    {
      "cell_type": "code",
      "source": [
        "missing_values_v = merged_data_id['venue'].isnull().sum()\n",
        "missing_values_v"
      ],
      "metadata": {
        "colab": {
          "base_uri": "https://localhost:8080/"
        },
        "id": "pPTQk558EmwG",
        "outputId": "9a2876f0-02d9-4d4c-f144-3d0c44b81b94"
      },
      "execution_count": null,
      "outputs": [
        {
          "output_type": "execute_result",
          "data": {
            "text/plain": [
              "0"
            ]
          },
          "metadata": {},
          "execution_count": 20
        }
      ]
    },
    {
      "cell_type": "code",
      "source": [
        "missing_values_u = merged_data_id['umpire3'].isnull().sum()\n",
        "missing_values_u\n"
      ],
      "metadata": {
        "colab": {
          "base_uri": "https://localhost:8080/"
        },
        "id": "E_ZKtCkiE141",
        "outputId": "312940da-c0d1-4316-ae32-006f19b6f6bd"
      },
      "execution_count": null,
      "outputs": [
        {
          "output_type": "execute_result",
          "data": {
            "text/plain": [
              "150712"
            ]
          },
          "metadata": {},
          "execution_count": 21
        }
      ]
    },
    {
      "cell_type": "code",
      "source": [
        "merged_data_id.isnull().sum()"
      ],
      "metadata": {
        "colab": {
          "base_uri": "https://localhost:8080/"
        },
        "id": "I0L3xiO4FCr0",
        "outputId": "a835da83-5eae-4a7a-8a01-8d36ac11d75a"
      },
      "execution_count": null,
      "outputs": [
        {
          "output_type": "execute_result",
          "data": {
            "text/plain": [
              "match_id                 0\n",
              "inning                   0\n",
              "batting_team             0\n",
              "bowling_team             0\n",
              "over                     0\n",
              "ball                     0\n",
              "batsman                  0\n",
              "non_striker              0\n",
              "bowler                   0\n",
              "is_super_over            0\n",
              "wide_runs                0\n",
              "bye_runs                 0\n",
              "legbye_runs              0\n",
              "noball_runs              0\n",
              "penalty_runs             0\n",
              "batsman_runs             0\n",
              "extra_runs               0\n",
              "total_runs               0\n",
              "player_dismissed    170244\n",
              "dismissal_kind      170244\n",
              "fielder             172630\n",
              "id                       0\n",
              "season                   0\n",
              "city                  1700\n",
              "date                     0\n",
              "team1                    0\n",
              "team2                    0\n",
              "toss_winner              0\n",
              "toss_decision            0\n",
              "result                   0\n",
              "dl_applied               0\n",
              "winner                 372\n",
              "win_by_runs              0\n",
              "win_by_wickets           0\n",
              "player_of_match        372\n",
              "venue                    0\n",
              "umpire1                500\n",
              "umpire2                500\n",
              "umpire3             150712\n",
              "dtype: int64"
            ]
          },
          "metadata": {},
          "execution_count": 22
        }
      ]
    },
    {
      "cell_type": "markdown",
      "source": [
        "# insight: most of the null value situated in filder column"
      ],
      "metadata": {
        "id": "Dh18TWKw1xGB"
      }
    },
    {
      "cell_type": "code",
      "source": [
        "172630>150712"
      ],
      "metadata": {
        "colab": {
          "base_uri": "https://localhost:8080/"
        },
        "id": "aoC6uuonFebO",
        "outputId": "0d5ae761-d44b-4472-95e2-6ebf31a3407b"
      },
      "execution_count": null,
      "outputs": [
        {
          "output_type": "execute_result",
          "data": {
            "text/plain": [
              "True"
            ]
          },
          "metadata": {},
          "execution_count": 23
        }
      ]
    },
    {
      "cell_type": "markdown",
      "source": [
        "# City which hosted most number of seasons according to the data is:\n"
      ],
      "metadata": {
        "id": "4KIJufQj2CeZ"
      }
    },
    {
      "cell_type": "code",
      "source": [
        "city_season_counts = merged_data_id['city'].value_counts()\n",
        "# getting the city that hosted the most number of seasons\n",
        "city_most_seasons = city_season_counts.idxmax()\n",
        "num_seasons_hosted = city_season_counts.max()\n",
        "print(f\"The city that hosted the most number of seasons is '{city_most_seasons}' with {num_seasons_hosted} seasons.\")\n"
      ],
      "metadata": {
        "colab": {
          "base_uri": "https://localhost:8080/"
        },
        "id": "OnO7roFlF3al",
        "outputId": "0515a579-0864-4f2c-9958-403859ec93dd"
      },
      "execution_count": null,
      "outputs": [
        {
          "output_type": "stream",
          "name": "stdout",
          "text": [
            "The city that hosted the most number of seasons is 'Mumbai' with 24302 seasons.\n"
          ]
        }
      ]
    },
    {
      "cell_type": "code",
      "source": [
        "city_column = merged_data_id['city']\n",
        "\n",
        "# histogram\n",
        "plt.figure(figsize=(10, 6))\n",
        "city_column.value_counts().plot(kind='bar')\n",
        "plt.title('Matches by City')\n",
        "plt.xlabel('City')\n",
        "plt.ylabel('Frequency')\n",
        "plt.xticks(rotation=45)\n",
        "plt.tight_layout()\n",
        "plt.show()\n"
      ],
      "metadata": {
        "colab": {
          "base_uri": "https://localhost:8080/",
          "height": 607
        },
        "id": "j-2RZFbh2acm",
        "outputId": "c84a3bf0-6586-4979-b528-9ebcae4903eb"
      },
      "execution_count": null,
      "outputs": [
        {
          "output_type": "display_data",
          "data": {
            "text/plain": [
              "<Figure size 1000x600 with 1 Axes>"
            ],
            "image/png": "[encoded data removed]"
          },
          "metadata": {}
        }
      ]
    },
    {
      "cell_type": "markdown",
      "source": [
        "# 4. Which year has the most number of matches played?\n"
      ],
      "metadata": {
        "id": "oadDqBt427tF"
      }
    },
    {
      "cell_type": "code",
      "source": [
        "# convert 'date' column to datetime if it's not already in datetime format\n",
        "merged_data_id['date'] = pd.to_datetime(merged_data_id['date'])\n",
        "\n",
        "# extract the year from the 'date' column and create a new column 'year'\n",
        "merged_data_id['year'] = merged_data_id['date'].dt.year\n",
        "\n",
        "# count the number of matches played per year\n",
        "matches_per_year = merged_data_id['year'].value_counts()\n",
        "\n",
        "# find the year with the most number of matches played\n",
        "year_most_matches = matches_per_year.idxmax()\n",
        "num_matches = matches_per_year.max()\n",
        "\n",
        "print(f\"The year with the most number of matches played is {year_most_matches} with {num_matches} matches.\")\n"
      ],
      "metadata": {
        "colab": {
          "base_uri": "https://localhost:8080/"
        },
        "id": "P8DnjwJgGXpr",
        "outputId": "7c117138-3218-47dd-b628-472898ab85b1"
      },
      "execution_count": null,
      "outputs": [
        {
          "output_type": "stream",
          "name": "stdout",
          "text": [
            "The year with the most number of matches played is 2013 with 18177 matches.\n"
          ]
        }
      ]
    },
    {
      "cell_type": "code",
      "source": [
        "# extract the 'city' column from the merged dataset\n",
        "year_column = merged_data_id['season']\n",
        "\n",
        "# Plotting the histogram\n",
        "plt.figure(figsize=(10, 6))  # Adjust the figure size if needed\n",
        "year_column.value_counts().plot(kind='bar', color='skyblue')\n",
        "plt.title('date')\n",
        "plt.xlabel('year')\n",
        "plt.ylabel('Frequency')\n",
        "plt.xticks(rotation=45)  # Rotate x-labels for better readability if there are many cities\n",
        "plt.tight_layout()\n",
        "\n",
        "# Show the plot\n",
        "plt.show()\n"
      ],
      "metadata": {
        "colab": {
          "base_uri": "https://localhost:8080/",
          "height": 607
        },
        "id": "iq3SH0fM2-8X",
        "outputId": "93c0a6af-9f61-4a38-86a6-b8def7866a36"
      },
      "execution_count": null,
      "outputs": [
        {
          "output_type": "display_data",
          "data": {
            "text/plain": [
              "<Figure size 1000x600 with 1 Axes>"
            ],
            "image/png": "[encoded data removed]"
          },
          "metadata": {}
        }
      ]
    },
    {
      "cell_type": "code",
      "source": [
        "# Handling missing values in 'player_dismissed', 'dismissal_kind', 'fielder' columns\n",
        "merged_data_id['player_dismissed'].fillna('Not Dismissed', inplace=True)\n",
        "merged_data_id['dismissal_kind'].fillna('Not Dismissed', inplace=True)\n",
        "merged_data_id['fielder'].fillna('No Fielder', inplace=True)\n",
        "\n",
        "# Handling missing values in 'city' column\n",
        "merged_data_id['city'].fillna('Unknown', inplace=True)\n",
        "\n",
        "# Handling missing values in 'winner', 'player_of_match' columns\n",
        "merged_data_id['winner'].fillna('No Winner', inplace=True)\n",
        "merged_data_id['player_of_match'].fillna('No Player', inplace=True)\n",
        "\n",
        "# Handling missing values in 'umpire1', 'umpire2', 'umpire3' columns\n",
        "merged_data_id['umpire1'].fillna('Unknown Umpire 1', inplace=True)\n",
        "merged_data_id['umpire2'].fillna('Unknown Umpire 2', inplace=True)\n",
        "merged_data_id['umpire3'].fillna('Unknown Umpire 3', inplace=True)\n",
        "\n",
        "# Verify the changes\n",
        "print(merged_data_id.isnull().sum())\n"
      ],
      "metadata": {
        "colab": {
          "base_uri": "https://localhost:8080/"
        },
        "id": "PuUx94vSVvd9",
        "outputId": "b37d95e7-e93f-4623-c224-e83483fa19e6"
      },
      "execution_count": 141,
      "outputs": [
        {
          "output_type": "stream",
          "name": "stdout",
          "text": [
            "match_id            0\n",
            "inning              0\n",
            "batting_team        0\n",
            "bowling_team        0\n",
            "over                0\n",
            "ball                0\n",
            "batsman             0\n",
            "non_striker         0\n",
            "bowler              0\n",
            "is_super_over       0\n",
            "wide_runs           0\n",
            "bye_runs            0\n",
            "legbye_runs         0\n",
            "noball_runs         0\n",
            "penalty_runs        0\n",
            "batsman_runs        0\n",
            "extra_runs          0\n",
            "total_runs          0\n",
            "player_dismissed    0\n",
            "dismissal_kind      0\n",
            "fielder             0\n",
            "id                  0\n",
            "season              0\n",
            "city                0\n",
            "date                0\n",
            "team1               0\n",
            "team2               0\n",
            "toss_winner         0\n",
            "toss_decision       0\n",
            "result              0\n",
            "dl_applied          0\n",
            "winner              0\n",
            "win_by_runs         0\n",
            "win_by_wickets      0\n",
            "player_of_match     0\n",
            "venue               0\n",
            "umpire1             0\n",
            "umpire2             0\n",
            "umpire3             0\n",
            "year                0\n",
            "dtype: int64\n"
          ]
        }
      ]
    },
    {
      "cell_type": "markdown",
      "source": [
        "# 5. Maximum wins by Mumbai Indians in 2011 are\n"
      ],
      "metadata": {
        "id": "NnTKWr494VDs"
      }
    },
    {
      "cell_type": "code",
      "source": [
        "# filter data for matches where Mumbai Indians played in the year 2011 and won\n",
        "mumbai_indians_2011_wins = df2[\n",
        "    (df2['season'] == 2011) &\n",
        "    (df2['winner'] == 'Mumbai Indians')\n",
        "]\n",
        "\n",
        "# count the number of wins for Mumbai Indians in 2011\n",
        "max_wins_2011 = mumbai_indians_2011_wins.shape[0]\n",
        "\n",
        "print(\"Maximum wins by Mumbai Indians in 2011:\", max_wins_2011)\n"
      ],
      "metadata": {
        "colab": {
          "base_uri": "https://localhost:8080/"
        },
        "id": "D5lL8gQHZQ0W",
        "outputId": "577b0a49-d6f1-4a55-dcf4-d66a8144b3ca"
      },
      "execution_count": 142,
      "outputs": [
        {
          "output_type": "stream",
          "name": "stdout",
          "text": [
            "Maximum wins by Mumbai Indians in 2011: 10\n"
          ]
        }
      ]
    },
    {
      "cell_type": "markdown",
      "source": [
        "# For 'toss_decision' feature pie plot"
      ],
      "metadata": {
        "id": "D2-ZXkhN4uTN"
      }
    },
    {
      "cell_type": "code",
      "source": [
        "import matplotlib.pyplot as plt\n",
        "\n",
        "plt.figure(figsize=(8, 6))\n",
        "merged_data_id['toss_decision'].value_counts().plot(kind='pie', autopct='%1.1f%%', startangle=140)\n",
        "plt.title('Toss Decision Distribution')\n",
        "plt.axis('equal')  # equal aspect ratio ensures that pie is drawn as a circle.\n",
        "plt.show()\n"
      ],
      "metadata": {
        "colab": {
          "base_uri": "https://localhost:8080/",
          "height": 521
        },
        "id": "E6rrmSLAaRRV",
        "outputId": "341a5733-5d4b-4fb1-9b88-52a45dc4e1c4"
      },
      "execution_count": 143,
      "outputs": [
        {
          "output_type": "display_data",
          "data": {
            "text/plain": [
              "<Figure size 800x600 with 1 Axes>"
            ],
            "image/png": "[encoded data removed]"
          },
          "metadata": {}
        }
      ]
    },
    {
      "cell_type": "code",
      "source": [
        "import matplotlib.pyplot as plt\n",
        "# Plotting the bar chart for 'toss_decision'\n",
        "plt.figure(figsize=(8, 6))\n",
        "merged_data_id['toss_decision'].value_counts().plot(kind='bar', color='skyblue')\n",
        "plt.title('Toss Decision Distribution')\n",
        "plt.xlabel('Decision')\n",
        "plt.ylabel('Count')\n",
        "plt.xticks(rotation=0)  # Rotating x-axis labels if necessary\n",
        "plt.show()\n"
      ],
      "metadata": {
        "colab": {
          "base_uri": "https://localhost:8080/",
          "height": 564
        },
        "id": "bYEs3Xkiark1",
        "outputId": "44106f0f-fce2-4c9c-c3dd-af27b666f0d4"
      },
      "execution_count": 144,
      "outputs": [
        {
          "output_type": "display_data",
          "data": {
            "text/plain": [
              "<Figure size 800x600 with 1 Axes>"
            ],
            "image/png": "[encoded data removed]"
          },
          "metadata": {}
        }
      ]
    },
    {
      "cell_type": "markdown",
      "source": [
        "# What is the percentage of getting bat and field in feature 'toss_descision'?\n"
      ],
      "metadata": {
        "id": "pnJNyJHY5E4Q"
      }
    },
    {
      "cell_type": "code",
      "source": [
        "#considering merged_table\n",
        "decision_counts = merged_data_id['toss_decision'].value_counts(normalize=True) * 100\n",
        "\n",
        "print(\"Percentage of getting 'bat' and 'field' in toss_decision:\")\n",
        "print(decision_counts)\n"
      ],
      "metadata": {
        "colab": {
          "base_uri": "https://localhost:8080/"
        },
        "id": "b4usVnJLb3uO",
        "outputId": "15f72d24-9f3d-47bd-aee8-0b857e06b914"
      },
      "execution_count": 146,
      "outputs": [
        {
          "output_type": "stream",
          "name": "stdout",
          "text": [
            "Percentage of getting 'bat' and 'field' in toss_decision:\n",
            "field    60.9913\n",
            "bat      39.0087\n",
            "Name: toss_decision, dtype: float64\n"
          ]
        }
      ]
    },
    {
      "cell_type": "code",
      "source": [
        "#considering df2 table\n",
        "toss_decision_counts = df2['toss_decision'].value_counts()\n",
        "\n",
        "# Calculate the percentage of 'bat' and 'field'\n",
        "bat_percentage = (toss_decision_counts['bat'] / toss_decision_counts.sum()) * 100\n",
        "field_percentage = (toss_decision_counts['field'] / toss_decision_counts.sum()) * 100\n",
        "\n",
        "print(f\"Percentage of 'bat' in toss_decision: {bat_percentage:.2f}%\")\n",
        "print(f\"Percentage of 'field' in toss_decision: {field_percentage:.2f}%\")"
      ],
      "metadata": {
        "colab": {
          "base_uri": "https://localhost:8080/"
        },
        "id": "biw34bjK5pRj",
        "outputId": "cadd25f4-2526-4765-a8f5-eb71a1e70a29"
      },
      "execution_count": 148,
      "outputs": [
        {
          "output_type": "stream",
          "name": "stdout",
          "text": [
            "Percentage of 'bat' in toss_decision: 38.76%\n",
            "Percentage of 'field' in toss_decision: 61.24%\n"
          ]
        }
      ]
    },
    {
      "cell_type": "code",
      "source": [
        "#considering df2 table\n",
        "field_wins = df2[(df2['toss_decision'] == 'field') & (df2['winner'] == df2['team2'])]\n",
        "bat_wins = df2[(df2['toss_decision'] == 'bat') & (df2['winner'] == df2['team1'])]\n",
        "\n",
        "total_field_wins = field_wins.shape[0]\n",
        "total_bat_wins = bat_wins.shape[0]\n",
        "\n",
        "if total_field_wins > total_bat_wins:\n",
        "    print(\"Teams winning tosses and electing to field first have won more number of matches.\")\n",
        "elif total_bat_wins > total_field_wins:\n",
        "    print(\"Teams winning tosses and electing to bat first have won more number of matches.\")\n",
        "else:\n",
        "    print(\"Both A and B are equal.\")\n"
      ],
      "metadata": {
        "colab": {
          "base_uri": "https://localhost:8080/"
        },
        "id": "U9kz813Pcmoi",
        "outputId": "e4960507-5583-44a5-b99c-bd47fea1b7f2"
      },
      "execution_count": null,
      "outputs": [
        {
          "output_type": "stream",
          "name": "stdout",
          "text": [
            "Teams winning tosses and electing to field first have won more number of matches.\n"
          ]
        }
      ]
    },
    {
      "cell_type": "code",
      "source": [
        "#considering merged_data_id table\n",
        "field_wins = merged_data_id[(merged_data_id['toss_decision'] == 'field') & (merged_data_id['winner'] == merged_data_id['team2'])]\n",
        "bat_wins = merged_data_id[(merged_data_id['toss_decision'] == 'bat') & (merged_data_id['winner'] == merged_data_id['team1'])]\n",
        "\n",
        "total_field_wins = field_wins.shape[0]\n",
        "total_bat_wins = bat_wins.shape[0]\n",
        "\n",
        "if total_field_wins > total_bat_wins:\n",
        "    print(\"Teams winning tosses and electing to field first have won more number of matches.\")\n",
        "elif total_bat_wins > total_field_wins:\n",
        "    print(\"Teams winning tosses and electing to bat first have won more number of matches.\")\n",
        "else:\n",
        "    print(\"Both A and B are equal.\")\n"
      ],
      "metadata": {
        "colab": {
          "base_uri": "https://localhost:8080/"
        },
        "id": "1H35BqHTdEi3",
        "outputId": "4a43cbc1-b56b-4929-cc48-c737de298b37"
      },
      "execution_count": 150,
      "outputs": [
        {
          "output_type": "stream",
          "name": "stdout",
          "text": [
            "Teams winning tosses and electing to field first have won more number of matches.\n"
          ]
        }
      ]
    },
    {
      "cell_type": "code",
      "source": [
        "merged_data_id.columns"
      ],
      "metadata": {
        "colab": {
          "base_uri": "https://localhost:8080/"
        },
        "id": "cyyUSd-1iN_Z",
        "outputId": "5186758e-0454-4a23-a76b-53c03123d641"
      },
      "execution_count": null,
      "outputs": [
        {
          "output_type": "execute_result",
          "data": {
            "text/plain": [
              "Index(['match_id', 'inning', 'batting_team', 'bowling_team', 'over', 'ball',\n",
              "       'batsman', 'non_striker', 'bowler', 'is_super_over', 'wide_runs',\n",
              "       'bye_runs', 'legbye_runs', 'noball_runs', 'penalty_runs',\n",
              "       'batsman_runs', 'extra_runs', 'total_runs', 'player_dismissed',\n",
              "       'dismissal_kind', 'fielder', 'id', 'season', 'city', 'date', 'team1',\n",
              "       'team2', 'toss_winner', 'toss_decision', 'result', 'dl_applied',\n",
              "       'winner', 'win_by_runs', 'win_by_wickets', 'player_of_match', 'venue',\n",
              "       'umpire1', 'umpire2', 'umpire3', 'year'],\n",
              "      dtype='object')"
            ]
          },
          "metadata": {},
          "execution_count": 90
        }
      ]
    },
    {
      "cell_type": "markdown",
      "source": [
        "# 9. In which years where taking batting second have won more number of matches?\n"
      ],
      "metadata": {
        "id": "NW4Yqe-L6eeu"
      }
    },
    {
      "cell_type": "code",
      "source": [
        "batting_second_wins = df2[df2['win_by_wickets'] > 0]\n",
        "# count the number of wins for each year\n",
        "yearly_wins = batting_second_wins['season'].value_counts()\n",
        "print(yearly_wins)\n",
        "#  years where batting second has won more matches\n",
        "max_wins = yearly_wins.max()\n",
        "years_with_max_wins = yearly_wins[yearly_wins == max_wins].index.tolist()\n",
        "print(\"which years where taking batting second have won more number of matches?\")\n",
        "print(\"Options:\")\n",
        "for year in years_with_max_wins:\n",
        "    print(f\"{year}\")\n",
        "\n"
      ],
      "metadata": {
        "colab": {
          "base_uri": "https://localhost:8080/"
        },
        "id": "_W9ls6GS6we4",
        "outputId": "1e8cce73-d2a5-4733-f79a-f8bdda40a87f"
      },
      "execution_count": 152,
      "outputs": [
        {
          "output_type": "stream",
          "name": "stdout",
          "text": [
            "2012    40\n",
            "2011    39\n",
            "2016    39\n",
            "2013    37\n",
            "2014    37\n",
            "2019    35\n",
            "2008    34\n",
            "2017    32\n",
            "2018    32\n",
            "2009    29\n",
            "2010    28\n",
            "2015    24\n",
            "Name: season, dtype: int64\n",
            "which years where taking batting second have won more number of matches?\n",
            "Options:\n",
            "2012\n"
          ]
        }
      ]
    },
    {
      "cell_type": "code",
      "source": [
        "import seaborn as sns\n",
        "\n",
        "# assuming 'batsman' column from merged_data_id DataFrame\n",
        "top_10_run_getters = merged_data_id.groupby('batsman')['batsman_runs'].sum().nlargest(10).index.tolist()\n",
        "\n",
        "# filtering data for top 10 run-getters\n",
        "top_10_batsmen_data = merged_data_id[merged_data_id['batsman'].isin(top_10_run_getters)]\n",
        "\n",
        "# creating a count plot to display the frequency of matches played by each top batsman\n",
        "plt.figure(figsize=(10, 6))\n",
        "sns.countplot(data=top_10_batsmen_data, x='batsman', order=top_10_run_getters)\n",
        "plt.xlabel('Batsmen')\n",
        "plt.ylabel('Number of Matches Played')\n",
        "plt.title('Number of Matches Played by Top 10 Run-Getters')\n",
        "plt.xticks(rotation=45)\n",
        "plt.show()\n"
      ],
      "metadata": {
        "colab": {
          "base_uri": "https://localhost:8080/",
          "height": 625
        },
        "id": "fGzgLExdlS8y",
        "outputId": "62de6c69-4723-4a3f-d8fe-319016cd85d4"
      },
      "execution_count": 153,
      "outputs": [
        {
          "output_type": "display_data",
          "data": {
            "text/plain": [
              "<Figure size 1000x600 with 1 Axes>"
            ],
            "image/png": "[encoded data removed]"
          },
          "metadata": {}
        }
      ]
    },
    {
      "cell_type": "markdown",
      "source": [
        "# In 2019 which batsman scored highest number of runs by hitting 6's and 4's?\n"
      ],
      "metadata": {
        "id": "LEHy3F6E7eBX"
      }
    },
    {
      "cell_type": "code",
      "source": [
        "# filter data for the year 2019\n",
        "data_2019 = merged_data_id[merged_data_id['year'] == 2019]\n",
        "\n",
        "#  data where batsman scored runs by hitting 4's and 6's\n",
        "sixes_and_fours = data_2019[(data_2019['batsman_runs'] == 4) | (data_2019['batsman_runs'] == 6)]\n",
        "\n",
        "# grouping by batsman and summing up runs from 4's and 6's\n",
        "runs_by_sixes_and_fours = sixes_and_fours.groupby('batsman')['batsman_runs'].sum().nlargest(1)\n",
        "\n",
        "#print(\"Batsman scoring the highest runs from 4's and 6's in 2019:\")\n",
        "#print(runs_by_sixes_and_fours)\n",
        "runs_by_sixes_and_fours"
      ],
      "metadata": {
        "colab": {
          "base_uri": "https://localhost:8080/"
        },
        "id": "2NfyDfxql_TT",
        "outputId": "d2a48771-73cf-4ca3-d2bf-64c68ecbfdb0"
      },
      "execution_count": 155,
      "outputs": [
        {
          "output_type": "execute_result",
          "data": {
            "text/plain": [
              "batsman\n",
              "AD Russell    438\n",
              "Name: batsman_runs, dtype: int64"
            ]
          },
          "metadata": {},
          "execution_count": 155
        }
      ]
    },
    {
      "cell_type": "markdown",
      "source": [
        "# 12. Most number of wickets taken by a bowler is\n"
      ],
      "metadata": {
        "id": "CfsauCLg7scP"
      }
    },
    {
      "cell_type": "code",
      "source": [
        "# Grouping data by bowler and counting wickets taken\n",
        "most_wickets = merged_data_id.groupby('bowler')['player_dismissed'].count().nlargest(1)\n",
        "\n",
        "print(\"Bowler with the most number of wickets:\")\n",
        "print(most_wickets)\n"
      ],
      "metadata": {
        "colab": {
          "base_uri": "https://localhost:8080/"
        },
        "id": "XIwD65JxmX3r",
        "outputId": "f7e8fb61-144d-4b0d-e76f-e68d70da77bf"
      },
      "execution_count": null,
      "outputs": [
        {
          "output_type": "stream",
          "name": "stdout",
          "text": [
            "Bowler with the most number of wickets:\n",
            "bowler\n",
            "Harbhajan Singh    3451\n",
            "Name: player_dismissed, dtype: int64\n"
          ]
        }
      ]
    },
    {
      "cell_type": "code",
      "source": [
        "merged_data_id['date'] = merged_data_id['date'].astype(str)\n",
        "kohli_2016 = merged_data_id[(merged_data_id['batsman'] == 'V Kohli') & (merged_data_id['date'].str.contains('2016'))]\n",
        "\n"
      ],
      "metadata": {
        "id": "9iNQgR3gvGg_"
      },
      "execution_count": 156,
      "outputs": []
    },
    {
      "cell_type": "markdown",
      "source": [
        "13.  What is the strike rate of Kohli in 2016\n"
      ],
      "metadata": {
        "id": "3QBJkg-O71oE"
      }
    },
    {
      "cell_type": "code",
      "source": [
        "total_runs = kohli_2016['batsman_runs'].sum()\n",
        "total_balls = kohli_2016['ball'].sum()\n",
        "\n",
        "# Calculate the strike rate\n",
        "strike_rate = (total_runs / total_balls) * 100\n",
        "\n",
        "# Print the strike rate\n",
        "print(strike_rate)\n"
      ],
      "metadata": {
        "colab": {
          "base_uri": "https://localhost:8080/"
        },
        "id": "Z93Yc8nxyOyQ",
        "outputId": "58b666e9-ee08-4da0-fbcd-83f3e4b2c52d"
      },
      "execution_count": 157,
      "outputs": [
        {
          "output_type": "stream",
          "name": "stdout",
          "text": [
            "43.34075723830735\n"
          ]
        }
      ]
    },
    {
      "cell_type": "code",
      "source": [
        "merged_data_id['year'].dtypes"
      ],
      "metadata": {
        "colab": {
          "base_uri": "https://localhost:8080/"
        },
        "id": "JLk9tKEuvyUe",
        "outputId": "47d818b4-3b48-416a-acbc-ac716c5141b3"
      },
      "execution_count": null,
      "outputs": [
        {
          "output_type": "execute_result",
          "data": {
            "text/plain": [
              "dtype('int64')"
            ]
          },
          "metadata": {},
          "execution_count": 119
        }
      ]
    },
    {
      "cell_type": "markdown",
      "source": [
        "14.  Bowlers with maximum number of extras:\n"
      ],
      "metadata": {
        "id": "cwkmhhqw7-PE"
      }
    },
    {
      "cell_type": "code",
      "source": [
        "# group data by bowler and calculate total extras\n",
        "bowler_extras = merged_data_id.groupby('bowler')['extra_runs'].sum().sort_values(ascending=False)\n",
        "\n",
        "# fetch the bowler with the maximum extras\n",
        "bowler_max_extras = bowler_extras.idxmax()\n",
        "\n",
        "print(\"Bowler with the maximum number of extras:\", bowler_max_extras)\n"
      ],
      "metadata": {
        "colab": {
          "base_uri": "https://localhost:8080/"
        },
        "id": "LMiKuLh3pfq3",
        "outputId": "697ab439-0180-487b-cdcc-0082d55592ab"
      },
      "execution_count": 158,
      "outputs": [
        {
          "output_type": "stream",
          "name": "stdout",
          "text": [
            "Bowler with the maximum number of extras: SL Malinga\n"
          ]
        }
      ]
    },
    {
      "cell_type": "code",
      "source": [
        "#15. Which venue has hosted most number of IPL matches?\n"
      ],
      "metadata": {
        "id": "Xw4hKv4y8JX0"
      },
      "execution_count": null,
      "outputs": []
    },
    {
      "cell_type": "code",
      "source": [
        "# group data by venue and count the number of matches played at each venue\n",
        "venue_matches_count = merged_data_id['venue'].value_counts()\n",
        "\n",
        "# identify the venue hosting the most number of matches\n",
        "venue_most_matches = venue_matches_count.idxmax()\n",
        "\n",
        "print(\"Venue that has hosted the most number of IPL matches:\", venue_most_matches)\n"
      ],
      "metadata": {
        "colab": {
          "base_uri": "https://localhost:8080/"
        },
        "id": "Aq1S3AE-prEc",
        "outputId": "09c82aa4-8bb3-420c-a4f4-bfe6ef44530b"
      },
      "execution_count": 159,
      "outputs": [
        {
          "output_type": "stream",
          "name": "stdout",
          "text": [
            "Venue that has hosted the most number of IPL matches: Eden Gardens\n"
          ]
        }
      ]
    },
    {
      "cell_type": "markdown",
      "source": [
        "# 16. In 2017 when sunrisers hyderabad clashed against Royal Challengers Bangalore which team player won player of the match?\n"
      ],
      "metadata": {
        "id": "x-IaLvNK9D3A"
      }
    },
    {
      "cell_type": "code",
      "source": [
        "# filter data for Sunrisers Hyderabad vs Royal Challengers Bangalore match in 2017\n",
        "match_2017_SRH_vs_RCB = merged_data_id[\n",
        "    (merged_data_id['team1'] == 'Sunrisers Hyderabad') &\n",
        "    (merged_data_id['team2'] == 'Royal Challengers Bangalore') &\n",
        "    (merged_data_id['year'] == 2017)\n",
        "]\n",
        "\n",
        "# identify the player who won the 'Player of the Match'\n",
        "player_of_match = match_2017_SRH_vs_RCB['player_of_match'].iloc[0]\n",
        "\n",
        "print(\"Player who won 'Player of the Match' in SRH vs RCB match in 2017:\", player_of_match)\n"
      ],
      "metadata": {
        "colab": {
          "base_uri": "https://localhost:8080/"
        },
        "id": "UEE8Bn68qLCL",
        "outputId": "3a3aa1d4-505a-4c04-b93e-889dfa044b2c"
      },
      "execution_count": null,
      "outputs": [
        {
          "output_type": "stream",
          "name": "stdout",
          "text": [
            "Player who won 'Player of the Match' in SRH vs RCB match in 2017: Yuvraj Singh\n"
          ]
        }
      ]
    },
    {
      "cell_type": "code",
      "source": [
        "# filter data where batsmen are involved in run-outs\n",
        "run_outs_data = merged_data_id[merged_data_id['dismissal_kind'] == 'run out']\n",
        "\n",
        "# group data by batsman and count the number of run-outs for each batsman\n",
        "batsmen_run_outs = run_outs_data['batsman'].value_counts()\n",
        "\n",
        "# get the top three batsmen with the most run-outs\n",
        "top_three_run_out_batsmen = batsmen_run_outs.head(5)\n",
        "\n",
        "print(\"Top three batsmen with the most number of run-outs:\")\n",
        "print(top_three_run_out_batsmen)\n"
      ],
      "metadata": {
        "colab": {
          "base_uri": "https://localhost:8080/"
        },
        "id": "hMr7SL5GqdUv",
        "outputId": "2c076a5b-99be-426d-c1f4-0be10e6f1eb8"
      },
      "execution_count": null,
      "outputs": [
        {
          "output_type": "stream",
          "name": "stdout",
          "text": [
            "Top three batsmen with the most number of run-outs:\n",
            "MS Dhoni      21\n",
            "RG Sharma     17\n",
            "KD Karthik    16\n",
            "G Gambhir     15\n",
            "V Kohli       15\n",
            "Name: batsman, dtype: int64\n"
          ]
        }
      ]
    },
    {
      "cell_type": "markdown",
      "source": [
        "# 18. What are the total runs scored by V Kohli when the bowler was JJ Burmah?\n"
      ],
      "metadata": {
        "id": "XHUqjm6R9nsr"
      }
    },
    {
      "cell_type": "code",
      "source": [
        "# Filter data for V Kohli batting against JJ Bumrah\n",
        "kohli_vs_bumrah = merged_data_id[\n",
        "    (merged_data_id['batsman'] == 'V Kohli') &\n",
        "    (merged_data_id['bowler'] == 'JJ Bumrah')\n",
        "]\n",
        "\n",
        "# Calculate the total runs scored by V Kohli against JJ Bumrah\n",
        "total_runs_kohli_vs_bumrah = kohli_vs_bumrah['batsman_runs'].sum()\n",
        "\n",
        "print(\"Total runs scored by V Kohli against JJ Bumrah:\", total_runs_kohli_vs_bumrah)\n"
      ],
      "metadata": {
        "colab": {
          "base_uri": "https://localhost:8080/"
        },
        "id": "JqQqweJWrIQ1",
        "outputId": "48e55fab-22ec-4df1-c751-7423bc6bcecc"
      },
      "execution_count": null,
      "outputs": [
        {
          "output_type": "stream",
          "name": "stdout",
          "text": [
            "Total runs scored by V Kohli against JJ Bumrah: 112\n"
          ]
        }
      ]
    },
    {
      "cell_type": "markdown",
      "source": [
        "# 19. Across all seasons which player was dismissed the maximum number of times via caught and bowled\n"
      ],
      "metadata": {
        "id": "KYsSJNjA9t1J"
      }
    },
    {
      "cell_type": "code",
      "source": [
        "# filter data for dismissals via 'caught and bowled'\n",
        "caught_and_bowled = merged_data_id[merged_data_id['dismissal_kind'] == 'caught and bowled']\n",
        "\n",
        "# Identify the player dismissed the most via 'caught and bowled'\n",
        "player_most_caught_and_bowled = caught_and_bowled['player_dismissed'].value_counts().idxmax()\n",
        "\n",
        "print(\"Player dismissed the most via 'caught and bowled' across all seasons:\", player_most_caught_and_bowled)\n"
      ],
      "metadata": {
        "colab": {
          "base_uri": "https://localhost:8080/"
        },
        "id": "g3G1nS6GraR8",
        "outputId": "6f5ec13d-07be-4b06-e1a8-7d7758b9674d"
      },
      "execution_count": null,
      "outputs": [
        {
          "output_type": "stream",
          "name": "stdout",
          "text": [
            "Player dismissed the most via 'caught and bowled' across all seasons: SK Raina\n"
          ]
        }
      ]
    },
    {
      "cell_type": "code",
      "source": [
        "# Calculate strike rate for each player\n",
        "player_strike_rates = merged_data_id.groupby('batsman').agg({'batsman_runs': 'sum', 'ball': 'count'})\n",
        "player_strike_rates['strike_rate'] = (player_strike_rates['batsman_runs'] / player_strike_rates['ball']) * 100\n",
        "\n",
        "# Identify player with the highest strike rate\n",
        "player_highest_strike_rate = player_strike_rates['strike_rate'].idxmax()\n",
        "\n",
        "print(\"Player with the highest strike rate (considered a measure of hard-hitting ability):\", player_highest_strike_rate)\n"
      ],
      "metadata": {
        "colab": {
          "base_uri": "https://localhost:8080/"
        },
        "id": "7ozCp3YCrsE3",
        "outputId": "b38a1607-7ec4-4cfb-9b3a-23d3ca0aada9"
      },
      "execution_count": null,
      "outputs": [
        {
          "output_type": "stream",
          "name": "stdout",
          "text": [
            "Player with the highest strike rate (considered a measure of hard-hitting ability): B Stanlake\n"
          ]
        }
      ]
    },
    {
      "cell_type": "code",
      "source": [
        "strike_rates = df1.groupby('batsman')['batsman_runs'].sum() / df1.groupby('batsman')['ball'].count() * 100\n",
        "\n",
        "# Filter for specific players\n",
        "players_of_interest = ['AB de Villiers', 'CH Gayle', 'MS Dhoni', 'V Kohli']\n",
        "strike_rates_of_interest = strike_rates[strike_rates.index.isin(players_of_interest)]\n",
        "\n",
        "# Display the strike rates\n",
        "print(strike_rates_of_interest)\n"
      ],
      "metadata": {
        "colab": {
          "base_uri": "https://localhost:8080/"
        },
        "id": "EH4TnX_3xUs3",
        "outputId": "b52abc9b-deca-4cfb-fd32-704eba00f76f"
      },
      "execution_count": null,
      "outputs": [
        {
          "output_type": "stream",
          "name": "stdout",
          "text": [
            "batsman\n",
            "AB de Villiers    148.740343\n",
            "CH Gayle          145.640370\n",
            "MS Dhoni          134.930681\n",
            "V Kohli           129.042983\n",
            "dtype: float64\n"
          ]
        }
      ]
    },
    {
      "cell_type": "code",
      "source": [
        "fours_and_sixes_data = merged_data_id[merged_data_id['total_runs'].isin([4, 6])]\n",
        "\n",
        "# Group by batsman and calculate the count of fours and sixes for each ball\n",
        "batsman_fours_sixes_count = fours_and_sixes_data.groupby(['batsman', 'match_id', 'inning', 'over', 'ball'])['total_runs'].value_counts().unstack(fill_value=0)\n",
        "\n",
        "# Sum the counts for each batsman to get the total count of fours and sixes\n",
        "batsman_total_fours_sixes_count = batsman_fours_sixes_count.groupby('batsman').sum()\n",
        "\n",
        "# Calculate the total count of fours and sixes for each batsman\n",
        "batsman_total_fours_sixes_count['Total Fours'] = batsman_total_fours_sixes_count[4]\n",
        "batsman_total_fours_sixes_count['Total Sixes'] = batsman_total_fours_sixes_count[6]\n",
        "batsman_total_fours_sixes_count = batsman_total_fours_sixes_count[['Total Fours', 'Total Sixes']]\n",
        "\n",
        "# Sort by the total count of fours and sixes in descending order\n",
        "top_batsmen = batsman_total_fours_sixes_count.sum(axis=1).sort_values(ascending=False).head(5)\n",
        "\n",
        "# Filter the top 5 batsmen from the merged dataset\n",
        "top_batsmen_data = merged_data_id[merged_data_id['batsman'].isin(top_batsmen.index)]\n",
        "\n",
        "# Group by batsman and calculate the count of balls faced\n",
        "balls_faced_count = top_batsmen_data.groupby('batsman')['ball'].count()\n",
        "\n",
        "# Calculate the hard-hitting ability (fours and sixes per ball) for each batsman\n",
        "hard_hitting_ability = top_batsmen.divide(balls_faced_count)\n",
        "\n",
        "print(\"Hard-hitting ability (fours and sixes per ball) for the top 5 batsmen:\")\n",
        "print(hard_hitting_ability)\n",
        "\n"
      ],
      "metadata": {
        "colab": {
          "base_uri": "https://localhost:8080/"
        },
        "id": "u8FExbg7A14i",
        "outputId": "1773b1c6-0f7b-4b2d-9e63-11e365093faa"
      },
      "execution_count": 160,
      "outputs": [
        {
          "output_type": "stream",
          "name": "stdout",
          "text": [
            "Hard-hitting ability (fours and sixes per ball) for the top 5 batsmen:\n",
            "batsman\n",
            "CH Gayle     0.225168\n",
            "DA Warner    0.188640\n",
            "S Dhawan     0.165254\n",
            "SK Raina     0.169634\n",
            "V Kohli      0.160532\n",
            "dtype: float64\n"
          ]
        }
      ]
    }
  ]
}